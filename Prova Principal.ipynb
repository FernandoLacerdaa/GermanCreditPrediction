{
 "cells": [
  {
   "cell_type": "code",
   "execution_count": 1,
   "id": "6d1ee1b3",
   "metadata": {},
   "outputs": [],
   "source": [
    "import matplotlib.pyplot as plt\n",
    "import plotly.express as px\n",
    "import plotly.graph_objects as go\n",
    "import pandas as pd\n",
    "import numpy as np"
   ]
  },
  {
   "cell_type": "code",
   "execution_count": 2,
   "id": "2e73c2ad",
   "metadata": {},
   "outputs": [],
   "source": [
    "clientes = pd.read_csv(\"https://github.com/edunb01/dotfiles/raw/master/olist_customers_dataset.csv\")\n",
    "items = pd.read_csv(\"https://github.com/edunb01/dotfiles/raw/master/olist_order_items_dataset.csv\")\n",
    "pagamentos = pd.read_csv(\"https://github.com/edunb01/dotfiles/raw/master/olist_order_payments_dataset.csv\")\n",
    "avals = pd.read_csv(\"https://github.com/edunb01/dotfiles/raw/master/olist_order_reviews_dataset.csv\")\n",
    "entregas = pd.read_csv(\"https://github.com/edunb01/dotfiles/raw/master/olist_orders_dataset.csv\")\n",
    "produtos = pd.read_csv(\"https://github.com/edunb01/dotfiles/raw/master/olist_products_dataset.csv\")\n",
    "vendedored = pd.read_csv(\"https://raw.githubusercontent.com/edunb01/dotfiles/master/olist_sellers_dataset.csv\")"
   ]
  },
  {
   "cell_type": "code",
   "execution_count": 3,
   "id": "975902e5",
   "metadata": {},
   "outputs": [],
   "source": [
    "merged = pd.merge(entregas,clientes,on=\"customer_id\",how=\"outer\")\n",
    "merged = pd.merge(pagamentos,merged,on=\"order_id\",how=\"outer\")\n",
    "merged = pd.merge(avals,merged,on=\"order_id\",how=\"outer\")\n",
    "merged2 = pd.merge(items,produtos,on=\"product_id\",how=\"outer\")\n",
    "merged2 = pd.merge(vendedored,merged2,on=\"seller_id\",how=\"outer\")\n",
    "merged = pd.merge(merged2,merged,on=\"order_id\",how=\"outer\")\n"
   ]
  },
  {
   "cell_type": "code",
   "execution_count": 4,
   "id": "eeb9e90e",
   "metadata": {},
   "outputs": [
    {
     "data": {
      "text/html": [
       "<div>\n",
       "<style scoped>\n",
       "    .dataframe tbody tr th:only-of-type {\n",
       "        vertical-align: middle;\n",
       "    }\n",
       "\n",
       "    .dataframe tbody tr th {\n",
       "        vertical-align: top;\n",
       "    }\n",
       "\n",
       "    .dataframe thead th {\n",
       "        text-align: right;\n",
       "    }\n",
       "</style>\n",
       "<table border=\"1\" class=\"dataframe\">\n",
       "  <thead>\n",
       "    <tr style=\"text-align: right;\">\n",
       "      <th></th>\n",
       "      <th>seller_id</th>\n",
       "      <th>seller_zip_code_prefix</th>\n",
       "      <th>seller_city</th>\n",
       "      <th>seller_state</th>\n",
       "      <th>order_id</th>\n",
       "      <th>order_item_id</th>\n",
       "      <th>product_id</th>\n",
       "      <th>shipping_limit_date</th>\n",
       "      <th>price</th>\n",
       "      <th>freight_value</th>\n",
       "      <th>...</th>\n",
       "      <th>order_status</th>\n",
       "      <th>order_purchase_timestamp</th>\n",
       "      <th>order_approved_at</th>\n",
       "      <th>order_delivered_carrier_date</th>\n",
       "      <th>order_delivered_customer_date</th>\n",
       "      <th>order_estimated_delivery_date</th>\n",
       "      <th>customer_unique_id</th>\n",
       "      <th>customer_zip_code_prefix</th>\n",
       "      <th>customer_city</th>\n",
       "      <th>customer_state</th>\n",
       "    </tr>\n",
       "  </thead>\n",
       "  <tbody>\n",
       "    <tr>\n",
       "      <th>0</th>\n",
       "      <td>3442f8959a84dea7ee197c632cb2df15</td>\n",
       "      <td>13023.0</td>\n",
       "      <td>campinas</td>\n",
       "      <td>SP</td>\n",
       "      <td>4a90af3e85dd563884e2afeab1091394</td>\n",
       "      <td>1.0</td>\n",
       "      <td>ffb64e34a37740dafb6c88f1abd1fa61</td>\n",
       "      <td>2017-08-25 20:50:19</td>\n",
       "      <td>106.20</td>\n",
       "      <td>9.56</td>\n",
       "      <td>...</td>\n",
       "      <td>delivered</td>\n",
       "      <td>2017-08-21 20:35:44</td>\n",
       "      <td>2017-08-21 20:50:19</td>\n",
       "      <td>2017-08-29 20:33:29</td>\n",
       "      <td>2017-08-30 16:07:13</td>\n",
       "      <td>2017-09-01 00:00:00</td>\n",
       "      <td>f421a2a66b69dbfe6db0c87845281a90</td>\n",
       "      <td>4661</td>\n",
       "      <td>sao paulo</td>\n",
       "      <td>SP</td>\n",
       "    </tr>\n",
       "    <tr>\n",
       "      <th>1</th>\n",
       "      <td>3442f8959a84dea7ee197c632cb2df15</td>\n",
       "      <td>13023.0</td>\n",
       "      <td>campinas</td>\n",
       "      <td>SP</td>\n",
       "      <td>6d953888a914b67350d5bc4d48f2acab</td>\n",
       "      <td>1.0</td>\n",
       "      <td>f4621f8ad6f54a2e3c408884068be46d</td>\n",
       "      <td>2017-05-11 16:25:11</td>\n",
       "      <td>101.70</td>\n",
       "      <td>15.92</td>\n",
       "      <td>...</td>\n",
       "      <td>delivered</td>\n",
       "      <td>2017-05-05 16:12:29</td>\n",
       "      <td>2017-05-05 16:25:11</td>\n",
       "      <td>2017-05-12 05:43:55</td>\n",
       "      <td>2017-06-02 16:57:44</td>\n",
       "      <td>2017-05-30 00:00:00</td>\n",
       "      <td>b4527423469300ee354458e1b5f961be</td>\n",
       "      <td>32223</td>\n",
       "      <td>contagem</td>\n",
       "      <td>MG</td>\n",
       "    </tr>\n",
       "    <tr>\n",
       "      <th>2</th>\n",
       "      <td>3442f8959a84dea7ee197c632cb2df15</td>\n",
       "      <td>13023.0</td>\n",
       "      <td>campinas</td>\n",
       "      <td>SP</td>\n",
       "      <td>bc8a5de6abf5b14f98a6135a7fb46731</td>\n",
       "      <td>2.0</td>\n",
       "      <td>325a06bcce0da45b7f4ecf2797dd40e4</td>\n",
       "      <td>2017-09-05 12:50:19</td>\n",
       "      <td>10.80</td>\n",
       "      <td>2.42</td>\n",
       "      <td>...</td>\n",
       "      <td>delivered</td>\n",
       "      <td>2017-08-30 11:47:52</td>\n",
       "      <td>2017-08-30 12:50:19</td>\n",
       "      <td>2017-08-30 19:22:18</td>\n",
       "      <td>2017-09-01 16:51:26</td>\n",
       "      <td>2017-09-20 00:00:00</td>\n",
       "      <td>af0f26435fade1ca984d9affda307199</td>\n",
       "      <td>9310</td>\n",
       "      <td>maua</td>\n",
       "      <td>SP</td>\n",
       "    </tr>\n",
       "    <tr>\n",
       "      <th>3</th>\n",
       "      <td>8c16d1f32a54d92897cc437244442e1b</td>\n",
       "      <td>89023.0</td>\n",
       "      <td>blumenau</td>\n",
       "      <td>SC</td>\n",
       "      <td>bc8a5de6abf5b14f98a6135a7fb46731</td>\n",
       "      <td>1.0</td>\n",
       "      <td>1b37d55343061aa2b18b807945ff9831</td>\n",
       "      <td>2017-09-05 12:50:19</td>\n",
       "      <td>118.90</td>\n",
       "      <td>26.68</td>\n",
       "      <td>...</td>\n",
       "      <td>delivered</td>\n",
       "      <td>2017-08-30 11:47:52</td>\n",
       "      <td>2017-08-30 12:50:19</td>\n",
       "      <td>2017-08-30 19:22:18</td>\n",
       "      <td>2017-09-01 16:51:26</td>\n",
       "      <td>2017-09-20 00:00:00</td>\n",
       "      <td>af0f26435fade1ca984d9affda307199</td>\n",
       "      <td>9310</td>\n",
       "      <td>maua</td>\n",
       "      <td>SP</td>\n",
       "    </tr>\n",
       "    <tr>\n",
       "      <th>4</th>\n",
       "      <td>d1b65fc7debc3361ea86b5f14c68d2e2</td>\n",
       "      <td>13844.0</td>\n",
       "      <td>mogi guacu</td>\n",
       "      <td>SP</td>\n",
       "      <td>035201c3c82a97f8a25dd6bd5244b2d5</td>\n",
       "      <td>1.0</td>\n",
       "      <td>1c36a5285f7f3b1ed2637d7c528ce5ff</td>\n",
       "      <td>2017-11-22 04:30:29</td>\n",
       "      <td>89.99</td>\n",
       "      <td>45.09</td>\n",
       "      <td>...</td>\n",
       "      <td>delivered</td>\n",
       "      <td>2017-11-10 16:54:13</td>\n",
       "      <td>2017-11-14 04:31:07</td>\n",
       "      <td>2017-11-14 20:06:59</td>\n",
       "      <td>2017-11-21 23:26:35</td>\n",
       "      <td>2017-12-04 00:00:00</td>\n",
       "      <td>be1401bbfd64455c798bb4683e915c61</td>\n",
       "      <td>22050</td>\n",
       "      <td>rio de janeiro</td>\n",
       "      <td>RJ</td>\n",
       "    </tr>\n",
       "  </tbody>\n",
       "</table>\n",
       "<p>5 rows × 39 columns</p>\n",
       "</div>"
      ],
      "text/plain": [
       "                          seller_id  seller_zip_code_prefix seller_city  \\\n",
       "0  3442f8959a84dea7ee197c632cb2df15                 13023.0    campinas   \n",
       "1  3442f8959a84dea7ee197c632cb2df15                 13023.0    campinas   \n",
       "2  3442f8959a84dea7ee197c632cb2df15                 13023.0    campinas   \n",
       "3  8c16d1f32a54d92897cc437244442e1b                 89023.0    blumenau   \n",
       "4  d1b65fc7debc3361ea86b5f14c68d2e2                 13844.0  mogi guacu   \n",
       "\n",
       "  seller_state                          order_id  order_item_id  \\\n",
       "0           SP  4a90af3e85dd563884e2afeab1091394            1.0   \n",
       "1           SP  6d953888a914b67350d5bc4d48f2acab            1.0   \n",
       "2           SP  bc8a5de6abf5b14f98a6135a7fb46731            2.0   \n",
       "3           SC  bc8a5de6abf5b14f98a6135a7fb46731            1.0   \n",
       "4           SP  035201c3c82a97f8a25dd6bd5244b2d5            1.0   \n",
       "\n",
       "                         product_id  shipping_limit_date   price  \\\n",
       "0  ffb64e34a37740dafb6c88f1abd1fa61  2017-08-25 20:50:19  106.20   \n",
       "1  f4621f8ad6f54a2e3c408884068be46d  2017-05-11 16:25:11  101.70   \n",
       "2  325a06bcce0da45b7f4ecf2797dd40e4  2017-09-05 12:50:19   10.80   \n",
       "3  1b37d55343061aa2b18b807945ff9831  2017-09-05 12:50:19  118.90   \n",
       "4  1c36a5285f7f3b1ed2637d7c528ce5ff  2017-11-22 04:30:29   89.99   \n",
       "\n",
       "   freight_value  ... order_status  order_purchase_timestamp  \\\n",
       "0           9.56  ...    delivered       2017-08-21 20:35:44   \n",
       "1          15.92  ...    delivered       2017-05-05 16:12:29   \n",
       "2           2.42  ...    delivered       2017-08-30 11:47:52   \n",
       "3          26.68  ...    delivered       2017-08-30 11:47:52   \n",
       "4          45.09  ...    delivered       2017-11-10 16:54:13   \n",
       "\n",
       "     order_approved_at  order_delivered_carrier_date  \\\n",
       "0  2017-08-21 20:50:19           2017-08-29 20:33:29   \n",
       "1  2017-05-05 16:25:11           2017-05-12 05:43:55   \n",
       "2  2017-08-30 12:50:19           2017-08-30 19:22:18   \n",
       "3  2017-08-30 12:50:19           2017-08-30 19:22:18   \n",
       "4  2017-11-14 04:31:07           2017-11-14 20:06:59   \n",
       "\n",
       "   order_delivered_customer_date  order_estimated_delivery_date  \\\n",
       "0            2017-08-30 16:07:13            2017-09-01 00:00:00   \n",
       "1            2017-06-02 16:57:44            2017-05-30 00:00:00   \n",
       "2            2017-09-01 16:51:26            2017-09-20 00:00:00   \n",
       "3            2017-09-01 16:51:26            2017-09-20 00:00:00   \n",
       "4            2017-11-21 23:26:35            2017-12-04 00:00:00   \n",
       "\n",
       "                 customer_unique_id  customer_zip_code_prefix   customer_city  \\\n",
       "0  f421a2a66b69dbfe6db0c87845281a90                      4661       sao paulo   \n",
       "1  b4527423469300ee354458e1b5f961be                     32223        contagem   \n",
       "2  af0f26435fade1ca984d9affda307199                      9310            maua   \n",
       "3  af0f26435fade1ca984d9affda307199                      9310            maua   \n",
       "4  be1401bbfd64455c798bb4683e915c61                     22050  rio de janeiro   \n",
       "\n",
       "   customer_state  \n",
       "0              SP  \n",
       "1              MG  \n",
       "2              SP  \n",
       "3              SP  \n",
       "4              RJ  \n",
       "\n",
       "[5 rows x 39 columns]"
      ]
     },
     "execution_count": 4,
     "metadata": {},
     "output_type": "execute_result"
    }
   ],
   "source": [
    "merged.head()"
   ]
  },
  {
   "cell_type": "code",
   "execution_count": 5,
   "id": "e5650735",
   "metadata": {},
   "outputs": [
    {
     "data": {
      "text/html": [
       "<div>\n",
       "<style scoped>\n",
       "    .dataframe tbody tr th:only-of-type {\n",
       "        vertical-align: middle;\n",
       "    }\n",
       "\n",
       "    .dataframe tbody tr th {\n",
       "        vertical-align: top;\n",
       "    }\n",
       "\n",
       "    .dataframe thead th {\n",
       "        text-align: right;\n",
       "    }\n",
       "</style>\n",
       "<table border=\"1\" class=\"dataframe\">\n",
       "  <thead>\n",
       "    <tr style=\"text-align: right;\">\n",
       "      <th></th>\n",
       "      <th>seller_id</th>\n",
       "      <th>seller_zip_code_prefix</th>\n",
       "      <th>seller_city</th>\n",
       "      <th>seller_state</th>\n",
       "      <th>order_id</th>\n",
       "      <th>order_item_id</th>\n",
       "      <th>product_id</th>\n",
       "      <th>shipping_limit_date</th>\n",
       "      <th>price</th>\n",
       "      <th>freight_value</th>\n",
       "      <th>...</th>\n",
       "      <th>order_status</th>\n",
       "      <th>order_purchase_timestamp</th>\n",
       "      <th>order_approved_at</th>\n",
       "      <th>order_delivered_carrier_date</th>\n",
       "      <th>order_delivered_customer_date</th>\n",
       "      <th>order_estimated_delivery_date</th>\n",
       "      <th>customer_unique_id</th>\n",
       "      <th>customer_zip_code_prefix</th>\n",
       "      <th>customer_city</th>\n",
       "      <th>customer_state</th>\n",
       "    </tr>\n",
       "  </thead>\n",
       "  <tbody>\n",
       "    <tr>\n",
       "      <th>0</th>\n",
       "      <td>3442f8959a84dea7ee197c632cb2df15</td>\n",
       "      <td>13023.0</td>\n",
       "      <td>campinas</td>\n",
       "      <td>SP</td>\n",
       "      <td>4a90af3e85dd563884e2afeab1091394</td>\n",
       "      <td>1.0</td>\n",
       "      <td>ffb64e34a37740dafb6c88f1abd1fa61</td>\n",
       "      <td>2017-08-25 20:50:19</td>\n",
       "      <td>106.20</td>\n",
       "      <td>9.56</td>\n",
       "      <td>...</td>\n",
       "      <td>delivered</td>\n",
       "      <td>2017-08-21 20:35:44</td>\n",
       "      <td>2017-08-21 20:50:19</td>\n",
       "      <td>2017-08-29 20:33:29</td>\n",
       "      <td>2017-08-30 16:07:13</td>\n",
       "      <td>2017-09-01 00:00:00</td>\n",
       "      <td>f421a2a66b69dbfe6db0c87845281a90</td>\n",
       "      <td>4661</td>\n",
       "      <td>sao paulo</td>\n",
       "      <td>SP</td>\n",
       "    </tr>\n",
       "    <tr>\n",
       "      <th>1</th>\n",
       "      <td>3442f8959a84dea7ee197c632cb2df15</td>\n",
       "      <td>13023.0</td>\n",
       "      <td>campinas</td>\n",
       "      <td>SP</td>\n",
       "      <td>6d953888a914b67350d5bc4d48f2acab</td>\n",
       "      <td>1.0</td>\n",
       "      <td>f4621f8ad6f54a2e3c408884068be46d</td>\n",
       "      <td>2017-05-11 16:25:11</td>\n",
       "      <td>101.70</td>\n",
       "      <td>15.92</td>\n",
       "      <td>...</td>\n",
       "      <td>delivered</td>\n",
       "      <td>2017-05-05 16:12:29</td>\n",
       "      <td>2017-05-05 16:25:11</td>\n",
       "      <td>2017-05-12 05:43:55</td>\n",
       "      <td>2017-06-02 16:57:44</td>\n",
       "      <td>2017-05-30 00:00:00</td>\n",
       "      <td>b4527423469300ee354458e1b5f961be</td>\n",
       "      <td>32223</td>\n",
       "      <td>contagem</td>\n",
       "      <td>MG</td>\n",
       "    </tr>\n",
       "    <tr>\n",
       "      <th>2</th>\n",
       "      <td>3442f8959a84dea7ee197c632cb2df15</td>\n",
       "      <td>13023.0</td>\n",
       "      <td>campinas</td>\n",
       "      <td>SP</td>\n",
       "      <td>bc8a5de6abf5b14f98a6135a7fb46731</td>\n",
       "      <td>2.0</td>\n",
       "      <td>325a06bcce0da45b7f4ecf2797dd40e4</td>\n",
       "      <td>2017-09-05 12:50:19</td>\n",
       "      <td>10.80</td>\n",
       "      <td>2.42</td>\n",
       "      <td>...</td>\n",
       "      <td>delivered</td>\n",
       "      <td>2017-08-30 11:47:52</td>\n",
       "      <td>2017-08-30 12:50:19</td>\n",
       "      <td>2017-08-30 19:22:18</td>\n",
       "      <td>2017-09-01 16:51:26</td>\n",
       "      <td>2017-09-20 00:00:00</td>\n",
       "      <td>af0f26435fade1ca984d9affda307199</td>\n",
       "      <td>9310</td>\n",
       "      <td>maua</td>\n",
       "      <td>SP</td>\n",
       "    </tr>\n",
       "    <tr>\n",
       "      <th>3</th>\n",
       "      <td>8c16d1f32a54d92897cc437244442e1b</td>\n",
       "      <td>89023.0</td>\n",
       "      <td>blumenau</td>\n",
       "      <td>SC</td>\n",
       "      <td>bc8a5de6abf5b14f98a6135a7fb46731</td>\n",
       "      <td>1.0</td>\n",
       "      <td>1b37d55343061aa2b18b807945ff9831</td>\n",
       "      <td>2017-09-05 12:50:19</td>\n",
       "      <td>118.90</td>\n",
       "      <td>26.68</td>\n",
       "      <td>...</td>\n",
       "      <td>delivered</td>\n",
       "      <td>2017-08-30 11:47:52</td>\n",
       "      <td>2017-08-30 12:50:19</td>\n",
       "      <td>2017-08-30 19:22:18</td>\n",
       "      <td>2017-09-01 16:51:26</td>\n",
       "      <td>2017-09-20 00:00:00</td>\n",
       "      <td>af0f26435fade1ca984d9affda307199</td>\n",
       "      <td>9310</td>\n",
       "      <td>maua</td>\n",
       "      <td>SP</td>\n",
       "    </tr>\n",
       "    <tr>\n",
       "      <th>4</th>\n",
       "      <td>d1b65fc7debc3361ea86b5f14c68d2e2</td>\n",
       "      <td>13844.0</td>\n",
       "      <td>mogi guacu</td>\n",
       "      <td>SP</td>\n",
       "      <td>035201c3c82a97f8a25dd6bd5244b2d5</td>\n",
       "      <td>1.0</td>\n",
       "      <td>1c36a5285f7f3b1ed2637d7c528ce5ff</td>\n",
       "      <td>2017-11-22 04:30:29</td>\n",
       "      <td>89.99</td>\n",
       "      <td>45.09</td>\n",
       "      <td>...</td>\n",
       "      <td>delivered</td>\n",
       "      <td>2017-11-10 16:54:13</td>\n",
       "      <td>2017-11-14 04:31:07</td>\n",
       "      <td>2017-11-14 20:06:59</td>\n",
       "      <td>2017-11-21 23:26:35</td>\n",
       "      <td>2017-12-04 00:00:00</td>\n",
       "      <td>be1401bbfd64455c798bb4683e915c61</td>\n",
       "      <td>22050</td>\n",
       "      <td>rio de janeiro</td>\n",
       "      <td>RJ</td>\n",
       "    </tr>\n",
       "  </tbody>\n",
       "</table>\n",
       "<p>5 rows × 39 columns</p>\n",
       "</div>"
      ],
      "text/plain": [
       "                          seller_id  seller_zip_code_prefix seller_city  \\\n",
       "0  3442f8959a84dea7ee197c632cb2df15                 13023.0    campinas   \n",
       "1  3442f8959a84dea7ee197c632cb2df15                 13023.0    campinas   \n",
       "2  3442f8959a84dea7ee197c632cb2df15                 13023.0    campinas   \n",
       "3  8c16d1f32a54d92897cc437244442e1b                 89023.0    blumenau   \n",
       "4  d1b65fc7debc3361ea86b5f14c68d2e2                 13844.0  mogi guacu   \n",
       "\n",
       "  seller_state                          order_id  order_item_id  \\\n",
       "0           SP  4a90af3e85dd563884e2afeab1091394            1.0   \n",
       "1           SP  6d953888a914b67350d5bc4d48f2acab            1.0   \n",
       "2           SP  bc8a5de6abf5b14f98a6135a7fb46731            2.0   \n",
       "3           SC  bc8a5de6abf5b14f98a6135a7fb46731            1.0   \n",
       "4           SP  035201c3c82a97f8a25dd6bd5244b2d5            1.0   \n",
       "\n",
       "                         product_id  shipping_limit_date   price  \\\n",
       "0  ffb64e34a37740dafb6c88f1abd1fa61  2017-08-25 20:50:19  106.20   \n",
       "1  f4621f8ad6f54a2e3c408884068be46d  2017-05-11 16:25:11  101.70   \n",
       "2  325a06bcce0da45b7f4ecf2797dd40e4  2017-09-05 12:50:19   10.80   \n",
       "3  1b37d55343061aa2b18b807945ff9831  2017-09-05 12:50:19  118.90   \n",
       "4  1c36a5285f7f3b1ed2637d7c528ce5ff  2017-11-22 04:30:29   89.99   \n",
       "\n",
       "   freight_value  ... order_status  order_purchase_timestamp  \\\n",
       "0           9.56  ...    delivered       2017-08-21 20:35:44   \n",
       "1          15.92  ...    delivered       2017-05-05 16:12:29   \n",
       "2           2.42  ...    delivered       2017-08-30 11:47:52   \n",
       "3          26.68  ...    delivered       2017-08-30 11:47:52   \n",
       "4          45.09  ...    delivered       2017-11-10 16:54:13   \n",
       "\n",
       "     order_approved_at  order_delivered_carrier_date  \\\n",
       "0  2017-08-21 20:50:19           2017-08-29 20:33:29   \n",
       "1  2017-05-05 16:25:11           2017-05-12 05:43:55   \n",
       "2  2017-08-30 12:50:19           2017-08-30 19:22:18   \n",
       "3  2017-08-30 12:50:19           2017-08-30 19:22:18   \n",
       "4  2017-11-14 04:31:07           2017-11-14 20:06:59   \n",
       "\n",
       "   order_delivered_customer_date  order_estimated_delivery_date  \\\n",
       "0            2017-08-30 16:07:13            2017-09-01 00:00:00   \n",
       "1            2017-06-02 16:57:44            2017-05-30 00:00:00   \n",
       "2            2017-09-01 16:51:26            2017-09-20 00:00:00   \n",
       "3            2017-09-01 16:51:26            2017-09-20 00:00:00   \n",
       "4            2017-11-21 23:26:35            2017-12-04 00:00:00   \n",
       "\n",
       "                 customer_unique_id  customer_zip_code_prefix   customer_city  \\\n",
       "0  f421a2a66b69dbfe6db0c87845281a90                      4661       sao paulo   \n",
       "1  b4527423469300ee354458e1b5f961be                     32223        contagem   \n",
       "2  af0f26435fade1ca984d9affda307199                      9310            maua   \n",
       "3  af0f26435fade1ca984d9affda307199                      9310            maua   \n",
       "4  be1401bbfd64455c798bb4683e915c61                     22050  rio de janeiro   \n",
       "\n",
       "   customer_state  \n",
       "0              SP  \n",
       "1              MG  \n",
       "2              SP  \n",
       "3              SP  \n",
       "4              RJ  \n",
       "\n",
       "[5 rows x 39 columns]"
      ]
     },
     "execution_count": 5,
     "metadata": {},
     "output_type": "execute_result"
    }
   ],
   "source": [
    "merged.head()"
   ]
  },
  {
   "cell_type": "code",
   "execution_count": 6,
   "id": "82446099",
   "metadata": {},
   "outputs": [
    {
     "data": {
      "text/plain": [
       "seller_id                        d1b65fc7debc3361ea86b5f14c68d2e2\n",
       "seller_zip_code_prefix                                    13844.0\n",
       "seller_city                                            mogi guacu\n",
       "seller_state                                                   SP\n",
       "order_id                         06e4e324b83309e575442446e34377d7\n",
       "order_item_id                                                 1.0\n",
       "product_id                       1c36a5285f7f3b1ed2637d7c528ce5ff\n",
       "shipping_limit_date                           2017-06-30 02:25:24\n",
       "price                                                        99.9\n",
       "freight_value                                                22.7\n",
       "product_category_name                            malas_acessorios\n",
       "product_name_lenght                                          21.0\n",
       "product_description_lenght                                  769.0\n",
       "product_photos_qty                                            4.0\n",
       "product_weight_g                                           1600.0\n",
       "product_length_cm                                            55.0\n",
       "product_height_cm                                            37.0\n",
       "product_width_cm                                             30.0\n",
       "review_id                        b793725422d848517417f2e9ac1d4eb9\n",
       "review_score                                                  5.0\n",
       "review_comment_title                                          NaN\n",
       "review_comment_message                                        NaN\n",
       "review_creation_date                          2017-06-28 00:00:00\n",
       "review_answer_timestamp                       2017-06-29 03:37:35\n",
       "payment_sequential                                            1.0\n",
       "payment_type                                               boleto\n",
       "payment_installments                                          1.0\n",
       "payment_value                                               122.6\n",
       "customer_id                      28635c64d8f2aee6e47124350f7ffb38\n",
       "order_status                                            delivered\n",
       "order_purchase_timestamp                      2017-06-21 22:40:33\n",
       "order_approved_at                             2017-06-23 02:25:24\n",
       "order_delivered_carrier_date                  2017-06-26 13:31:18\n",
       "order_delivered_customer_date                 2017-06-27 16:18:39\n",
       "order_estimated_delivery_date                 2017-07-05 00:00:00\n",
       "customer_unique_id               f95a2fb1caacbd10edbe4afa7a5980f8\n",
       "customer_zip_code_prefix                                    13416\n",
       "customer_city                                          piracicaba\n",
       "customer_state                                                 SP\n",
       "Name: 5, dtype: object"
      ]
     },
     "execution_count": 6,
     "metadata": {},
     "output_type": "execute_result"
    }
   ],
   "source": [
    "merged.iloc[5,:]"
   ]
  },
  {
   "cell_type": "code",
   "execution_count": 60,
   "id": "b5edde83",
   "metadata": {},
   "outputs": [
    {
     "data": {
      "image/png": "[encoded data removed]",
      "text/plain": [
       "<Figure size 1400x560 with 1 Axes>"
      ]
     },
     "metadata": {},
     "output_type": "display_data"
    }
   ],
   "source": [
    "categorias = merged[\"product_category_name\"].value_counts().sort_index(ascending=True)[:5]\n",
    "\n",
    "lista_anos = list(categorias.index)\n",
    "object_list = [str(i) for i in lista_anos]\n",
    "object_list\n",
    "colors = [\"purple\"]\n",
    "fig, px = plt.subplots(figsize=(14,5.6))\n",
    "_=plt.title(\"Contagem de produto por categoria\", fontsize=16.7)\n",
    "_=plt.ylabel(\"Contagem\",fontsize=14.5)\n",
    "_=plt.xlabel(\"Categoria\",fontsize=14.5)\n",
    "px.bar(object_list,categorias.values,color=colors)\n",
    "_=plt.gca().spines[\"top\"].set_visible(False)\n",
    "_=plt.gca().spines[\"right\"].set_visible(False)\n",
    "#gca mean:  \"get current axes\"\n",
    "for i,v in enumerate(categorias.values):\n",
    "    px.text(i,v,str(v), ha=\"center\",va=\"bottom\")\n",
    "\n",
    "\n",
    "plt.show()"
   ]
  },
  {
   "cell_type": "code",
   "execution_count": 8,
   "id": "c103e124",
   "metadata": {},
   "outputs": [],
   "source": [
    "estados = merged.groupby(\"customer_state\")[\"product_category_name\"].count().sort_values(ascending=False)[:10]"
   ]
  },
  {
   "cell_type": "code",
   "execution_count": 9,
   "id": "ba531aeb",
   "metadata": {},
   "outputs": [
    {
     "data": {
      "text/plain": [
       "customer_state\n",
       "SP    49145\n",
       "RJ    15188\n",
       "MG    13534\n",
       "RS     6437\n",
       "PR     5908\n",
       "SC     4254\n",
       "BA     3994\n",
       "DF     2467\n",
       "GO     2397\n",
       "ES     2332\n",
       "Name: product_category_name, dtype: int64"
      ]
     },
     "execution_count": 9,
     "metadata": {},
     "output_type": "execute_result"
    }
   ],
   "source": [
    "estados"
   ]
  },
  {
   "cell_type": "code",
   "execution_count": 58,
   "id": "6b003cc2",
   "metadata": {},
   "outputs": [
    {
     "data": {
      "image/png": "[encoded data removed]",
      "text/plain": [
       "<Figure size 1400x560 with 1 Axes>"
      ]
     },
     "metadata": {},
     "output_type": "display_data"
    }
   ],
   "source": [
    "\n",
    "colors = [\"purple\"]\n",
    "fig, px= plt.subplots(figsize=(14,5.6))\n",
    "_=plt.title(\"Contagem de produto por Estado\", fontsize=16.7)\n",
    "_=plt.ylabel(\"Contagem\",fontsize=14.5)\n",
    "_=plt.xlabel(\"Estado\",fontsize=14.5)\n",
    "px.bar(estados.index,estados.values,color=colors)\n",
    "_=plt.gca().spines[\"top\"].set_visible(False)\n",
    "_=plt.gca().spines[\"right\"].set_visible(False)\n",
    "#gca mean:  \"get current axes\"\n",
    "for i,v in enumerate(estados.values):\n",
    "    px.text(i,v,str(v), ha=\"center\",va=\"bottom\")\n",
    "\n",
    "\n",
    "plt.show()"
   ]
  },
  {
   "cell_type": "code",
   "execution_count": 11,
   "id": "b1663936",
   "metadata": {},
   "outputs": [],
   "source": [
    "estados_semSP = merged.groupby(\"customer_state\")[\"product_category_name\"].count().sort_values(ascending=False)[1:10]"
   ]
  },
  {
   "cell_type": "code",
   "execution_count": 12,
   "id": "d475bb45",
   "metadata": {},
   "outputs": [
    {
     "data": {
      "text/plain": [
       "customer_state\n",
       "RJ    15188\n",
       "MG    13534\n",
       "RS     6437\n",
       "PR     5908\n",
       "SC     4254\n",
       "BA     3994\n",
       "DF     2467\n",
       "GO     2397\n",
       "ES     2332\n",
       "Name: product_category_name, dtype: int64"
      ]
     },
     "execution_count": 12,
     "metadata": {},
     "output_type": "execute_result"
    }
   ],
   "source": [
    "estados_semSP"
   ]
  },
  {
   "cell_type": "code",
   "execution_count": 57,
   "id": "931b36e2",
   "metadata": {},
   "outputs": [
    {
     "data": {
      "image/png": "[encoded data removed]",
      "text/plain": [
       "<Figure size 1400x560 with 1 Axes>"
      ]
     },
     "metadata": {},
     "output_type": "display_data"
    }
   ],
   "source": [
    "colors = [\"purple\"]\n",
    "fig, px = plt.subplots(figsize=(14,5.6))\n",
    "_=plt.title(\"Contagem de produto por Estado sem SP\", fontsize=16.7)\n",
    "_=plt.ylabel(\"Contagem\",fontsize=14.5)\n",
    "_=plt.xlabel(\"Estado\",fontsize=14.5)\n",
    "px.bar(estados_semSP.index,estados_semSP.values,color=colors)\n",
    "_=plt.gca().spines[\"top\"].set_visible(False)\n",
    "_=plt.gca().spines[\"right\"].set_visible(False)\n",
    "#gca mean:  \"get current axes\"\n",
    "for i,v in enumerate(estados_semSP.values):\n",
    "    px.text(i,v,str(v), ha=\"center\",va=\"bottom\")\n",
    "\n",
    "plt.show()"
   ]
  },
  {
   "cell_type": "code",
   "execution_count": 14,
   "id": "bf7f835b",
   "metadata": {},
   "outputs": [],
   "source": [
    "maiores = estados.iloc[:2]\n",
    "maiores = pd.DataFrame(np.floor(maiores*100/estados.values.sum()))\n"
   ]
  },
  {
   "cell_type": "code",
   "execution_count": 15,
   "id": "333a532f",
   "metadata": {},
   "outputs": [],
   "source": [
    "maiores = estados.iloc[:2]\n",
    "maiores = np.floor(maiores*100/estados.values.sum())"
   ]
  },
  {
   "cell_type": "code",
   "execution_count": 38,
   "id": "7bf9e2eb",
   "metadata": {},
   "outputs": [
    {
     "data": {
      "image/png": "[encoded data removed]",
      "text/plain": [
       "<Figure size 1400x560 with 1 Axes>"
      ]
     },
     "metadata": {},
     "output_type": "display_data"
    }
   ],
   "source": [
    "colors = [\"purple\",\"orchid\"]\n",
    "fig, px = plt.subplots(figsize=(14,5.6))\n",
    "_=plt.title(\"Porcentagem de Vendas em Relação ao país\", fontsize=15.7)\n",
    "_=plt.ylabel(\"Porcentagens\",fontsize=14.5)\n",
    "_=plt.xlabel(\"Estado\",fontsize=14.5)\n",
    "px.bar(maiores.index,maiores.values,color=colors)\n",
    "_=plt.gca().spines[\"top\"].set_visible(False)\n",
    "_=plt.gca().spines[\"right\"].set_visible(False)\n",
    "#gca mean:  \"get current axes\"\n",
    "for i,v in enumerate(maiores.values):\n",
    "    px.text(i,v,str(v), ha=\"center\",va=\"bottom\")\n",
    "\n",
    "\n",
    "plt.show()"
   ]
  },
  {
   "cell_type": "code",
   "execution_count": 17,
   "id": "9bcbcbf2",
   "metadata": {},
   "outputs": [
    {
     "data": {
      "text/html": [
       "<div>\n",
       "<style scoped>\n",
       "    .dataframe tbody tr th:only-of-type {\n",
       "        vertical-align: middle;\n",
       "    }\n",
       "\n",
       "    .dataframe tbody tr th {\n",
       "        vertical-align: top;\n",
       "    }\n",
       "\n",
       "    .dataframe thead th {\n",
       "        text-align: right;\n",
       "    }\n",
       "</style>\n",
       "<table border=\"1\" class=\"dataframe\">\n",
       "  <thead>\n",
       "    <tr style=\"text-align: right;\">\n",
       "      <th></th>\n",
       "      <th>seller_id</th>\n",
       "      <th>seller_zip_code_prefix</th>\n",
       "      <th>seller_city</th>\n",
       "      <th>seller_state</th>\n",
       "      <th>order_id</th>\n",
       "      <th>order_item_id</th>\n",
       "      <th>product_id</th>\n",
       "      <th>shipping_limit_date</th>\n",
       "      <th>price</th>\n",
       "      <th>freight_value</th>\n",
       "      <th>...</th>\n",
       "      <th>order_status</th>\n",
       "      <th>order_purchase_timestamp</th>\n",
       "      <th>order_approved_at</th>\n",
       "      <th>order_delivered_carrier_date</th>\n",
       "      <th>order_delivered_customer_date</th>\n",
       "      <th>order_estimated_delivery_date</th>\n",
       "      <th>customer_unique_id</th>\n",
       "      <th>customer_zip_code_prefix</th>\n",
       "      <th>customer_city</th>\n",
       "      <th>customer_state</th>\n",
       "    </tr>\n",
       "  </thead>\n",
       "  <tbody>\n",
       "    <tr>\n",
       "      <th>0</th>\n",
       "      <td>3442f8959a84dea7ee197c632cb2df15</td>\n",
       "      <td>13023.0</td>\n",
       "      <td>campinas</td>\n",
       "      <td>SP</td>\n",
       "      <td>4a90af3e85dd563884e2afeab1091394</td>\n",
       "      <td>1.0</td>\n",
       "      <td>ffb64e34a37740dafb6c88f1abd1fa61</td>\n",
       "      <td>2017-08-25 20:50:19</td>\n",
       "      <td>106.20</td>\n",
       "      <td>9.56</td>\n",
       "      <td>...</td>\n",
       "      <td>delivered</td>\n",
       "      <td>2017-08-21 20:35:44</td>\n",
       "      <td>2017-08-21 20:50:19</td>\n",
       "      <td>2017-08-29 20:33:29</td>\n",
       "      <td>2017-08-30 16:07:13</td>\n",
       "      <td>2017-09-01 00:00:00</td>\n",
       "      <td>f421a2a66b69dbfe6db0c87845281a90</td>\n",
       "      <td>4661</td>\n",
       "      <td>sao paulo</td>\n",
       "      <td>SP</td>\n",
       "    </tr>\n",
       "    <tr>\n",
       "      <th>1</th>\n",
       "      <td>3442f8959a84dea7ee197c632cb2df15</td>\n",
       "      <td>13023.0</td>\n",
       "      <td>campinas</td>\n",
       "      <td>SP</td>\n",
       "      <td>6d953888a914b67350d5bc4d48f2acab</td>\n",
       "      <td>1.0</td>\n",
       "      <td>f4621f8ad6f54a2e3c408884068be46d</td>\n",
       "      <td>2017-05-11 16:25:11</td>\n",
       "      <td>101.70</td>\n",
       "      <td>15.92</td>\n",
       "      <td>...</td>\n",
       "      <td>delivered</td>\n",
       "      <td>2017-05-05 16:12:29</td>\n",
       "      <td>2017-05-05 16:25:11</td>\n",
       "      <td>2017-05-12 05:43:55</td>\n",
       "      <td>2017-06-02 16:57:44</td>\n",
       "      <td>2017-05-30 00:00:00</td>\n",
       "      <td>b4527423469300ee354458e1b5f961be</td>\n",
       "      <td>32223</td>\n",
       "      <td>contagem</td>\n",
       "      <td>MG</td>\n",
       "    </tr>\n",
       "    <tr>\n",
       "      <th>2</th>\n",
       "      <td>3442f8959a84dea7ee197c632cb2df15</td>\n",
       "      <td>13023.0</td>\n",
       "      <td>campinas</td>\n",
       "      <td>SP</td>\n",
       "      <td>bc8a5de6abf5b14f98a6135a7fb46731</td>\n",
       "      <td>2.0</td>\n",
       "      <td>325a06bcce0da45b7f4ecf2797dd40e4</td>\n",
       "      <td>2017-09-05 12:50:19</td>\n",
       "      <td>10.80</td>\n",
       "      <td>2.42</td>\n",
       "      <td>...</td>\n",
       "      <td>delivered</td>\n",
       "      <td>2017-08-30 11:47:52</td>\n",
       "      <td>2017-08-30 12:50:19</td>\n",
       "      <td>2017-08-30 19:22:18</td>\n",
       "      <td>2017-09-01 16:51:26</td>\n",
       "      <td>2017-09-20 00:00:00</td>\n",
       "      <td>af0f26435fade1ca984d9affda307199</td>\n",
       "      <td>9310</td>\n",
       "      <td>maua</td>\n",
       "      <td>SP</td>\n",
       "    </tr>\n",
       "    <tr>\n",
       "      <th>3</th>\n",
       "      <td>8c16d1f32a54d92897cc437244442e1b</td>\n",
       "      <td>89023.0</td>\n",
       "      <td>blumenau</td>\n",
       "      <td>SC</td>\n",
       "      <td>bc8a5de6abf5b14f98a6135a7fb46731</td>\n",
       "      <td>1.0</td>\n",
       "      <td>1b37d55343061aa2b18b807945ff9831</td>\n",
       "      <td>2017-09-05 12:50:19</td>\n",
       "      <td>118.90</td>\n",
       "      <td>26.68</td>\n",
       "      <td>...</td>\n",
       "      <td>delivered</td>\n",
       "      <td>2017-08-30 11:47:52</td>\n",
       "      <td>2017-08-30 12:50:19</td>\n",
       "      <td>2017-08-30 19:22:18</td>\n",
       "      <td>2017-09-01 16:51:26</td>\n",
       "      <td>2017-09-20 00:00:00</td>\n",
       "      <td>af0f26435fade1ca984d9affda307199</td>\n",
       "      <td>9310</td>\n",
       "      <td>maua</td>\n",
       "      <td>SP</td>\n",
       "    </tr>\n",
       "    <tr>\n",
       "      <th>4</th>\n",
       "      <td>d1b65fc7debc3361ea86b5f14c68d2e2</td>\n",
       "      <td>13844.0</td>\n",
       "      <td>mogi guacu</td>\n",
       "      <td>SP</td>\n",
       "      <td>035201c3c82a97f8a25dd6bd5244b2d5</td>\n",
       "      <td>1.0</td>\n",
       "      <td>1c36a5285f7f3b1ed2637d7c528ce5ff</td>\n",
       "      <td>2017-11-22 04:30:29</td>\n",
       "      <td>89.99</td>\n",
       "      <td>45.09</td>\n",
       "      <td>...</td>\n",
       "      <td>delivered</td>\n",
       "      <td>2017-11-10 16:54:13</td>\n",
       "      <td>2017-11-14 04:31:07</td>\n",
       "      <td>2017-11-14 20:06:59</td>\n",
       "      <td>2017-11-21 23:26:35</td>\n",
       "      <td>2017-12-04 00:00:00</td>\n",
       "      <td>be1401bbfd64455c798bb4683e915c61</td>\n",
       "      <td>22050</td>\n",
       "      <td>rio de janeiro</td>\n",
       "      <td>RJ</td>\n",
       "    </tr>\n",
       "  </tbody>\n",
       "</table>\n",
       "<p>5 rows × 39 columns</p>\n",
       "</div>"
      ],
      "text/plain": [
       "                          seller_id  seller_zip_code_prefix seller_city  \\\n",
       "0  3442f8959a84dea7ee197c632cb2df15                 13023.0    campinas   \n",
       "1  3442f8959a84dea7ee197c632cb2df15                 13023.0    campinas   \n",
       "2  3442f8959a84dea7ee197c632cb2df15                 13023.0    campinas   \n",
       "3  8c16d1f32a54d92897cc437244442e1b                 89023.0    blumenau   \n",
       "4  d1b65fc7debc3361ea86b5f14c68d2e2                 13844.0  mogi guacu   \n",
       "\n",
       "  seller_state                          order_id  order_item_id  \\\n",
       "0           SP  4a90af3e85dd563884e2afeab1091394            1.0   \n",
       "1           SP  6d953888a914b67350d5bc4d48f2acab            1.0   \n",
       "2           SP  bc8a5de6abf5b14f98a6135a7fb46731            2.0   \n",
       "3           SC  bc8a5de6abf5b14f98a6135a7fb46731            1.0   \n",
       "4           SP  035201c3c82a97f8a25dd6bd5244b2d5            1.0   \n",
       "\n",
       "                         product_id  shipping_limit_date   price  \\\n",
       "0  ffb64e34a37740dafb6c88f1abd1fa61  2017-08-25 20:50:19  106.20   \n",
       "1  f4621f8ad6f54a2e3c408884068be46d  2017-05-11 16:25:11  101.70   \n",
       "2  325a06bcce0da45b7f4ecf2797dd40e4  2017-09-05 12:50:19   10.80   \n",
       "3  1b37d55343061aa2b18b807945ff9831  2017-09-05 12:50:19  118.90   \n",
       "4  1c36a5285f7f3b1ed2637d7c528ce5ff  2017-11-22 04:30:29   89.99   \n",
       "\n",
       "   freight_value  ... order_status  order_purchase_timestamp  \\\n",
       "0           9.56  ...    delivered       2017-08-21 20:35:44   \n",
       "1          15.92  ...    delivered       2017-05-05 16:12:29   \n",
       "2           2.42  ...    delivered       2017-08-30 11:47:52   \n",
       "3          26.68  ...    delivered       2017-08-30 11:47:52   \n",
       "4          45.09  ...    delivered       2017-11-10 16:54:13   \n",
       "\n",
       "     order_approved_at  order_delivered_carrier_date  \\\n",
       "0  2017-08-21 20:50:19           2017-08-29 20:33:29   \n",
       "1  2017-05-05 16:25:11           2017-05-12 05:43:55   \n",
       "2  2017-08-30 12:50:19           2017-08-30 19:22:18   \n",
       "3  2017-08-30 12:50:19           2017-08-30 19:22:18   \n",
       "4  2017-11-14 04:31:07           2017-11-14 20:06:59   \n",
       "\n",
       "   order_delivered_customer_date  order_estimated_delivery_date  \\\n",
       "0            2017-08-30 16:07:13            2017-09-01 00:00:00   \n",
       "1            2017-06-02 16:57:44            2017-05-30 00:00:00   \n",
       "2            2017-09-01 16:51:26            2017-09-20 00:00:00   \n",
       "3            2017-09-01 16:51:26            2017-09-20 00:00:00   \n",
       "4            2017-11-21 23:26:35            2017-12-04 00:00:00   \n",
       "\n",
       "                 customer_unique_id  customer_zip_code_prefix   customer_city  \\\n",
       "0  f421a2a66b69dbfe6db0c87845281a90                      4661       sao paulo   \n",
       "1  b4527423469300ee354458e1b5f961be                     32223        contagem   \n",
       "2  af0f26435fade1ca984d9affda307199                      9310            maua   \n",
       "3  af0f26435fade1ca984d9affda307199                      9310            maua   \n",
       "4  be1401bbfd64455c798bb4683e915c61                     22050  rio de janeiro   \n",
       "\n",
       "   customer_state  \n",
       "0              SP  \n",
       "1              MG  \n",
       "2              SP  \n",
       "3              SP  \n",
       "4              RJ  \n",
       "\n",
       "[5 rows x 39 columns]"
      ]
     },
     "execution_count": 17,
     "metadata": {},
     "output_type": "execute_result"
    }
   ],
   "source": [
    "merged.head()"
   ]
  },
  {
   "cell_type": "code",
   "execution_count": 18,
   "id": "36c634c4",
   "metadata": {},
   "outputs": [],
   "source": [
    "merged_precos_maiores = merged.groupby(\"customer_state\")[\"price\"].mean()\n",
    "merged_precos_maiores = merged_precos_maiores.sort_values(ascending=False)[:10]\n",
    "merged_precos2 = pd.Series(np.floor(merged_precos_maiores.values))"
   ]
  },
  {
   "cell_type": "code",
   "execution_count": 46,
   "id": "8d51646b",
   "metadata": {},
   "outputs": [
    {
     "data": {
      "image/png": "[encoded data removed]",
      "text/plain": [
       "<Figure size 1000x560 with 1 Axes>"
      ]
     },
     "metadata": {},
     "output_type": "display_data"
    }
   ],
   "source": [
    "colors = [\"purple\"]\n",
    "fig, px = plt.subplots(figsize=(10,5.6))\n",
    "_=plt.title(\"Média de preço gasto por estado (maiores)\", fontsize=13.7)\n",
    "_=plt.ylabel(\"Média de Gasto\",fontsize=12.5)\n",
    "_=plt.xlabel(\"Estado\",fontsize=12.5)\n",
    "px.bar(merged_precos_maiores.index,merged_precos2.values,color=colors)\n",
    "_=plt.gca().spines[\"top\"].set_visible(False)\n",
    "_=plt.gca().spines[\"right\"].set_visible(False)\n",
    "#gca mean:  \"get current axes\"\n",
    "for i,v in enumerate(merged_precos2.values):\n",
    "    px.text(i,v,str(v), ha=\"center\",va=\"bottom\")\n",
    "\n",
    "\n",
    "plt.show()"
   ]
  },
  {
   "cell_type": "code",
   "execution_count": 20,
   "id": "d1978aac",
   "metadata": {},
   "outputs": [],
   "source": [
    "merged_precos_menores = merged.groupby(\"customer_state\")[\"price\"].mean()\n",
    "merged_precos_menores = merged_precos_menores.sort_values(ascending=True)[:10]\n",
    "merged_precos_min = pd.Series(np.floor(merged_precos_menores.values))"
   ]
  },
  {
   "cell_type": "code",
   "execution_count": 45,
   "id": "458e94ba",
   "metadata": {},
   "outputs": [
    {
     "data": {
      "image/png": "[encoded data removed]",
      "text/plain": [
       "<Figure size 1000x560 with 1 Axes>"
      ]
     },
     "metadata": {},
     "output_type": "display_data"
    }
   ],
   "source": [
    "\n",
    "colors = [\"purple\"]\n",
    "fig, px = plt.subplots(figsize=(10,5.6))\n",
    "_=plt.title(\"Média de preço gasto por estado (menores)\", fontsize=13.7)\n",
    "_=plt.ylabel(\"Média de Gasto\",fontsize=12.5)\n",
    "_=plt.xlabel(\"Estado\",fontsize=12.5)\n",
    "px.bar(merged_precos_menores.index,merged_precos_min.values,color=colors)\n",
    "_=plt.gca().spines[\"top\"].set_visible(False)\n",
    "_=plt.gca().spines[\"right\"].set_visible(False)\n",
    "#gca mean:  \"get current axes\"\n",
    "for i,v in enumerate(merged_precos_min.values):\n",
    "    px.text(i,v,str(v), ha=\"center\",va=\"bottom\")\n",
    "\n",
    "\n",
    "plt.show()"
   ]
  },
  {
   "cell_type": "code",
   "execution_count": 22,
   "id": "30d38269",
   "metadata": {},
   "outputs": [],
   "source": [
    "merged_precos_menores = pd.DataFrame(merged_precos_menores)\n",
    "merged_precos_menores[\"Média de Preço\"] = \"Baixa\"\n",
    "\n",
    "merged_precos_maiores = pd.DataFrame(merged_precos_maiores)\n",
    "merged_precos_maiores[\"Média de Preço\"] = \"Alta\"\n"
   ]
  },
  {
   "cell_type": "code",
   "execution_count": 47,
   "id": "296f94c6",
   "metadata": {},
   "outputs": [
    {
     "data": {
      "application/vnd.plotly.v1+json": {
       "config": {
        "plotlyServerURL": "https://plot.ly"
       },
       "data": [
        {
         "boxpoints": "outliers",
         "marker": {
          "color": "purple"
         },
         "name": "Altos Preços",
         "type": "box",
         "x": [
          "Alta",
          "Alta",
          "Alta",
          "Alta",
          "Alta",
          "Alta",
          "Alta",
          "Alta",
          "Alta",
          "Alta"
         ],
         "y": [
          193.462875,
          180.334025974026,
          179.57305263157895,
          165.9348377581121,
          165.68802101576182,
          164.6392965271594,
          164.2098951048951,
          162.55119047619047,
          160.67543554006969,
          154.30278277634963
         ]
        },
        {
         "boxpoints": "outliers",
         "marker": {
          "color": "magenta"
         },
         "name": "Baixos Preços",
         "type": "box",
         "x": [
          "Baixa",
          "Baixa",
          "Baixa",
          "Baixa",
          "Baixa",
          "Baixa",
          "Baixa",
          "Baixa",
          "Baixa",
          "Baixa"
         ],
         "y": [
          109.83673398175073,
          118.36910821643286,
          119.97720294503571,
          121.0946527990211,
          121.12773287962568,
          124.58687390599675,
          125.00490854364435,
          126.04891599999999,
          127.67968609865471,
          132.93755813953487
         ]
        }
       ],
       "layout": {
        "showlegend": true,
        "template": {
         "data": {
          "bar": [
           {
            "error_x": {
             "color": "#2a3f5f"
            },
            "error_y": {
             "color": "#2a3f5f"
            },
            "marker": {
             "line": {
              "color": "#E5ECF6",
              "width": 0.5
             },
             "pattern": {
              "fillmode": "overlay",
              "size": 10,
              "solidity": 0.2
             }
            },
            "type": "bar"
           }
          ],
          "barpolar": [
           {
            "marker": {
             "line": {
              "color": "#E5ECF6",
              "width": 0.5
             },
             "pattern": {
              "fillmode": "overlay",
              "size": 10,
              "solidity": 0.2
             }
            },
            "type": "barpolar"
           }
          ],
          "carpet": [
           {
            "aaxis": {
             "endlinecolor": "#2a3f5f",
             "gridcolor": "white",
             "linecolor": "white",
             "minorgridcolor": "white",
             "startlinecolor": "#2a3f5f"
            },
            "baxis": {
             "endlinecolor": "#2a3f5f",
             "gridcolor": "white",
             "linecolor": "white",
             "minorgridcolor": "white",
             "startlinecolor": "#2a3f5f"
            },
            "type": "carpet"
           }
          ],
          "choropleth": [
           {
            "colorbar": {
             "outlinewidth": 0,
             "ticks": ""
            },
            "type": "choropleth"
           }
          ],
          "contour": [
           {
            "colorbar": {
             "outlinewidth": 0,
             "ticks": ""
            },
            "colorscale": [
             [
              0,
              "#0d0887"
             ],
             [
              0.1111111111111111,
              "#46039f"
             ],
             [
              0.2222222222222222,
              "#7201a8"
             ],
             [
              0.3333333333333333,
              "#9c179e"
             ],
             [
              0.4444444444444444,
              "#bd3786"
             ],
             [
              0.5555555555555556,
              "#d8576b"
             ],
             [
              0.6666666666666666,
              "#ed7953"
             ],
             [
              0.7777777777777778,
              "#fb9f3a"
             ],
             [
              0.8888888888888888,
              "#fdca26"
             ],
             [
              1,
              "#f0f921"
             ]
            ],
            "type": "contour"
           }
          ],
          "contourcarpet": [
           {
            "colorbar": {
             "outlinewidth": 0,
             "ticks": ""
            },
            "type": "contourcarpet"
           }
          ],
          "heatmap": [
           {
            "colorbar": {
             "outlinewidth": 0,
             "ticks": ""
            },
            "colorscale": [
             [
              0,
              "#0d0887"
             ],
             [
              0.1111111111111111,
              "#46039f"
             ],
             [
              0.2222222222222222,
              "#7201a8"
             ],
             [
              0.3333333333333333,
              "#9c179e"
             ],
             [
              0.4444444444444444,
              "#bd3786"
             ],
             [
              0.5555555555555556,
              "#d8576b"
             ],
             [
              0.6666666666666666,
              "#ed7953"
             ],
             [
              0.7777777777777778,
              "#fb9f3a"
             ],
             [
              0.8888888888888888,
              "#fdca26"
             ],
             [
              1,
              "#f0f921"
             ]
            ],
            "type": "heatmap"
           }
          ],
          "heatmapgl": [
           {
            "colorbar": {
             "outlinewidth": 0,
             "ticks": ""
            },
            "colorscale": [
             [
              0,
              "#0d0887"
             ],
             [
              0.1111111111111111,
              "#46039f"
             ],
             [
              0.2222222222222222,
              "#7201a8"
             ],
             [
              0.3333333333333333,
              "#9c179e"
             ],
             [
              0.4444444444444444,
              "#bd3786"
             ],
             [
              0.5555555555555556,
              "#d8576b"
             ],
             [
              0.6666666666666666,
              "#ed7953"
             ],
             [
              0.7777777777777778,
              "#fb9f3a"
             ],
             [
              0.8888888888888888,
              "#fdca26"
             ],
             [
              1,
              "#f0f921"
             ]
            ],
            "type": "heatmapgl"
           }
          ],
          "histogram": [
           {
            "marker": {
             "pattern": {
              "fillmode": "overlay",
              "size": 10,
              "solidity": 0.2
             }
            },
            "type": "histogram"
           }
          ],
          "histogram2d": [
           {
            "colorbar": {
             "outlinewidth": 0,
             "ticks": ""
            },
            "colorscale": [
             [
              0,
              "#0d0887"
             ],
             [
              0.1111111111111111,
              "#46039f"
             ],
             [
              0.2222222222222222,
              "#7201a8"
             ],
             [
              0.3333333333333333,
              "#9c179e"
             ],
             [
              0.4444444444444444,
              "#bd3786"
             ],
             [
              0.5555555555555556,
              "#d8576b"
             ],
             [
              0.6666666666666666,
              "#ed7953"
             ],
             [
              0.7777777777777778,
              "#fb9f3a"
             ],
             [
              0.8888888888888888,
              "#fdca26"
             ],
             [
              1,
              "#f0f921"
             ]
            ],
            "type": "histogram2d"
           }
          ],
          "histogram2dcontour": [
           {
            "colorbar": {
             "outlinewidth": 0,
             "ticks": ""
            },
            "colorscale": [
             [
              0,
              "#0d0887"
             ],
             [
              0.1111111111111111,
              "#46039f"
             ],
             [
              0.2222222222222222,
              "#7201a8"
             ],
             [
              0.3333333333333333,
              "#9c179e"
             ],
             [
              0.4444444444444444,
              "#bd3786"
             ],
             [
              0.5555555555555556,
              "#d8576b"
             ],
             [
              0.6666666666666666,
              "#ed7953"
             ],
             [
              0.7777777777777778,
              "#fb9f3a"
             ],
             [
              0.8888888888888888,
              "#fdca26"
             ],
             [
              1,
              "#f0f921"
             ]
            ],
            "type": "histogram2dcontour"
           }
          ],
          "mesh3d": [
           {
            "colorbar": {
             "outlinewidth": 0,
             "ticks": ""
            },
            "type": "mesh3d"
           }
          ],
          "parcoords": [
           {
            "line": {
             "colorbar": {
              "outlinewidth": 0,
              "ticks": ""
             }
            },
            "type": "parcoords"
           }
          ],
          "pie": [
           {
            "automargin": true,
            "type": "pie"
           }
          ],
          "scatter": [
           {
            "fillpattern": {
             "fillmode": "overlay",
             "size": 10,
             "solidity": 0.2
            },
            "type": "scatter"
           }
          ],
          "scatter3d": [
           {
            "line": {
             "colorbar": {
              "outlinewidth": 0,
              "ticks": ""
             }
            },
            "marker": {
             "colorbar": {
              "outlinewidth": 0,
              "ticks": ""
             }
            },
            "type": "scatter3d"
           }
          ],
          "scattercarpet": [
           {
            "marker": {
             "colorbar": {
              "outlinewidth": 0,
              "ticks": ""
             }
            },
            "type": "scattercarpet"
           }
          ],
          "scattergeo": [
           {
            "marker": {
             "colorbar": {
              "outlinewidth": 0,
              "ticks": ""
             }
            },
            "type": "scattergeo"
           }
          ],
          "scattergl": [
           {
            "marker": {
             "colorbar": {
              "outlinewidth": 0,
              "ticks": ""
             }
            },
            "type": "scattergl"
           }
          ],
          "scattermapbox": [
           {
            "marker": {
             "colorbar": {
              "outlinewidth": 0,
              "ticks": ""
             }
            },
            "type": "scattermapbox"
           }
          ],
          "scatterpolar": [
           {
            "marker": {
             "colorbar": {
              "outlinewidth": 0,
              "ticks": ""
             }
            },
            "type": "scatterpolar"
           }
          ],
          "scatterpolargl": [
           {
            "marker": {
             "colorbar": {
              "outlinewidth": 0,
              "ticks": ""
             }
            },
            "type": "scatterpolargl"
           }
          ],
          "scatterternary": [
           {
            "marker": {
             "colorbar": {
              "outlinewidth": 0,
              "ticks": ""
             }
            },
            "type": "scatterternary"
           }
          ],
          "surface": [
           {
            "colorbar": {
             "outlinewidth": 0,
             "ticks": ""
            },
            "colorscale": [
             [
              0,
              "#0d0887"
             ],
             [
              0.1111111111111111,
              "#46039f"
             ],
             [
              0.2222222222222222,
              "#7201a8"
             ],
             [
              0.3333333333333333,
              "#9c179e"
             ],
             [
              0.4444444444444444,
              "#bd3786"
             ],
             [
              0.5555555555555556,
              "#d8576b"
             ],
             [
              0.6666666666666666,
              "#ed7953"
             ],
             [
              0.7777777777777778,
              "#fb9f3a"
             ],
             [
              0.8888888888888888,
              "#fdca26"
             ],
             [
              1,
              "#f0f921"
             ]
            ],
            "type": "surface"
           }
          ],
          "table": [
           {
            "cells": {
             "fill": {
              "color": "#EBF0F8"
             },
             "line": {
              "color": "white"
             }
            },
            "header": {
             "fill": {
              "color": "#C8D4E3"
             },
             "line": {
              "color": "white"
             }
            },
            "type": "table"
           }
          ]
         },
         "layout": {
          "annotationdefaults": {
           "arrowcolor": "#2a3f5f",
           "arrowhead": 0,
           "arrowwidth": 1
          },
          "autotypenumbers": "strict",
          "coloraxis": {
           "colorbar": {
            "outlinewidth": 0,
            "ticks": ""
           }
          },
          "colorscale": {
           "diverging": [
            [
             0,
             "#8e0152"
            ],
            [
             0.1,
             "#c51b7d"
            ],
            [
             0.2,
             "#de77ae"
            ],
            [
             0.3,
             "#f1b6da"
            ],
            [
             0.4,
             "#fde0ef"
            ],
            [
             0.5,
             "#f7f7f7"
            ],
            [
             0.6,
             "#e6f5d0"
            ],
            [
             0.7,
             "#b8e186"
            ],
            [
             0.8,
             "#7fbc41"
            ],
            [
             0.9,
             "#4d9221"
            ],
            [
             1,
             "#276419"
            ]
           ],
           "sequential": [
            [
             0,
             "#0d0887"
            ],
            [
             0.1111111111111111,
             "#46039f"
            ],
            [
             0.2222222222222222,
             "#7201a8"
            ],
            [
             0.3333333333333333,
             "#9c179e"
            ],
            [
             0.4444444444444444,
             "#bd3786"
            ],
            [
             0.5555555555555556,
             "#d8576b"
            ],
            [
             0.6666666666666666,
             "#ed7953"
            ],
            [
             0.7777777777777778,
             "#fb9f3a"
            ],
            [
             0.8888888888888888,
             "#fdca26"
            ],
            [
             1,
             "#f0f921"
            ]
           ],
           "sequentialminus": [
            [
             0,
             "#0d0887"
            ],
            [
             0.1111111111111111,
             "#46039f"
            ],
            [
             0.2222222222222222,
             "#7201a8"
            ],
            [
             0.3333333333333333,
             "#9c179e"
            ],
            [
             0.4444444444444444,
             "#bd3786"
            ],
            [
             0.5555555555555556,
             "#d8576b"
            ],
            [
             0.6666666666666666,
             "#ed7953"
            ],
            [
             0.7777777777777778,
             "#fb9f3a"
            ],
            [
             0.8888888888888888,
             "#fdca26"
            ],
            [
             1,
             "#f0f921"
            ]
           ]
          },
          "colorway": [
           "#636efa",
           "#EF553B",
           "#00cc96",
           "#ab63fa",
           "#FFA15A",
           "#19d3f3",
           "#FF6692",
           "#B6E880",
           "#FF97FF",
           "#FECB52"
          ],
          "font": {
           "color": "#2a3f5f"
          },
          "geo": {
           "bgcolor": "white",
           "lakecolor": "white",
           "landcolor": "#E5ECF6",
           "showlakes": true,
           "showland": true,
           "subunitcolor": "white"
          },
          "hoverlabel": {
           "align": "left"
          },
          "hovermode": "closest",
          "mapbox": {
           "style": "light"
          },
          "paper_bgcolor": "white",
          "plot_bgcolor": "#E5ECF6",
          "polar": {
           "angularaxis": {
            "gridcolor": "white",
            "linecolor": "white",
            "ticks": ""
           },
           "bgcolor": "#E5ECF6",
           "radialaxis": {
            "gridcolor": "white",
            "linecolor": "white",
            "ticks": ""
           }
          },
          "scene": {
           "xaxis": {
            "backgroundcolor": "#E5ECF6",
            "gridcolor": "white",
            "gridwidth": 2,
            "linecolor": "white",
            "showbackground": true,
            "ticks": "",
            "zerolinecolor": "white"
           },
           "yaxis": {
            "backgroundcolor": "#E5ECF6",
            "gridcolor": "white",
            "gridwidth": 2,
            "linecolor": "white",
            "showbackground": true,
            "ticks": "",
            "zerolinecolor": "white"
           },
           "zaxis": {
            "backgroundcolor": "#E5ECF6",
            "gridcolor": "white",
            "gridwidth": 2,
            "linecolor": "white",
            "showbackground": true,
            "ticks": "",
            "zerolinecolor": "white"
           }
          },
          "shapedefaults": {
           "line": {
            "color": "#2a3f5f"
           }
          },
          "ternary": {
           "aaxis": {
            "gridcolor": "white",
            "linecolor": "white",
            "ticks": ""
           },
           "baxis": {
            "gridcolor": "white",
            "linecolor": "white",
            "ticks": ""
           },
           "bgcolor": "#E5ECF6",
           "caxis": {
            "gridcolor": "white",
            "linecolor": "white",
            "ticks": ""
           }
          },
          "title": {
           "x": 0.05
          },
          "xaxis": {
           "automargin": true,
           "gridcolor": "white",
           "linecolor": "white",
           "ticks": "",
           "title": {
            "standoff": 15
           },
           "zerolinecolor": "white",
           "zerolinewidth": 2
          },
          "yaxis": {
           "automargin": true,
           "gridcolor": "white",
           "linecolor": "white",
           "ticks": "",
           "title": {
            "standoff": 15
           },
           "zerolinecolor": "white",
           "zerolinewidth": 2
          }
         }
        },
        "title": {
         "text": "Rent by Class"
        },
        "xaxis": {
         "title": {
          "text": "Situação Sobre Média de Preço"
         }
        },
        "yaxis": {
         "title": {
          "text": "Preço"
         }
        }
       }
      },
      "text/html": [
       "<div>                            <div id=\"3b8733ec-1e78-4d3f-9933-7999c5ba2e4d\" class=\"plotly-graph-div\" style=\"height:525px; width:100%;\"></div>            <script type=\"text/javascript\">                require([\"plotly\"], function(Plotly) {                    window.PLOTLYENV=window.PLOTLYENV || {};                                    if (document.getElementById(\"3b8733ec-1e78-4d3f-9933-7999c5ba2e4d\")) {                    Plotly.newPlot(                        \"3b8733ec-1e78-4d3f-9933-7999c5ba2e4d\",                        [{\"boxpoints\":\"outliers\",\"marker\":{\"color\":\"purple\"},\"name\":\"Altos Pre\\u00e7os\",\"x\":[\"Alta\",\"Alta\",\"Alta\",\"Alta\",\"Alta\",\"Alta\",\"Alta\",\"Alta\",\"Alta\",\"Alta\"],\"y\":[193.462875,180.334025974026,179.57305263157895,165.9348377581121,165.68802101576182,164.6392965271594,164.2098951048951,162.55119047619047,160.67543554006969,154.30278277634963],\"type\":\"box\"},{\"boxpoints\":\"outliers\",\"marker\":{\"color\":\"magenta\"},\"name\":\"Baixos Pre\\u00e7os\",\"x\":[\"Baixa\",\"Baixa\",\"Baixa\",\"Baixa\",\"Baixa\",\"Baixa\",\"Baixa\",\"Baixa\",\"Baixa\",\"Baixa\"],\"y\":[109.83673398175073,118.36910821643286,119.97720294503571,121.0946527990211,121.12773287962568,124.58687390599675,125.00490854364435,126.04891599999999,127.67968609865471,132.93755813953487],\"type\":\"box\"}],                        {\"template\":{\"data\":{\"histogram2dcontour\":[{\"type\":\"histogram2dcontour\",\"colorbar\":{\"outlinewidth\":0,\"ticks\":\"\"},\"colorscale\":[[0.0,\"#0d0887\"],[0.1111111111111111,\"#46039f\"],[0.2222222222222222,\"#7201a8\"],[0.3333333333333333,\"#9c179e\"],[0.4444444444444444,\"#bd3786\"],[0.5555555555555556,\"#d8576b\"],[0.6666666666666666,\"#ed7953\"],[0.7777777777777778,\"#fb9f3a\"],[0.8888888888888888,\"#fdca26\"],[1.0,\"#f0f921\"]]}],\"choropleth\":[{\"type\":\"choropleth\",\"colorbar\":{\"outlinewidth\":0,\"ticks\":\"\"}}],\"histogram2d\":[{\"type\":\"histogram2d\",\"colorbar\":{\"outlinewidth\":0,\"ticks\":\"\"},\"colorscale\":[[0.0,\"#0d0887\"],[0.1111111111111111,\"#46039f\"],[0.2222222222222222,\"#7201a8\"],[0.3333333333333333,\"#9c179e\"],[0.4444444444444444,\"#bd3786\"],[0.5555555555555556,\"#d8576b\"],[0.6666666666666666,\"#ed7953\"],[0.7777777777777778,\"#fb9f3a\"],[0.8888888888888888,\"#fdca26\"],[1.0,\"#f0f921\"]]}],\"heatmap\":[{\"type\":\"heatmap\",\"colorbar\":{\"outlinewidth\":0,\"ticks\":\"\"},\"colorscale\":[[0.0,\"#0d0887\"],[0.1111111111111111,\"#46039f\"],[0.2222222222222222,\"#7201a8\"],[0.3333333333333333,\"#9c179e\"],[0.4444444444444444,\"#bd3786\"],[0.5555555555555556,\"#d8576b\"],[0.6666666666666666,\"#ed7953\"],[0.7777777777777778,\"#fb9f3a\"],[0.8888888888888888,\"#fdca26\"],[1.0,\"#f0f921\"]]}],\"heatmapgl\":[{\"type\":\"heatmapgl\",\"colorbar\":{\"outlinewidth\":0,\"ticks\":\"\"},\"colorscale\":[[0.0,\"#0d0887\"],[0.1111111111111111,\"#46039f\"],[0.2222222222222222,\"#7201a8\"],[0.3333333333333333,\"#9c179e\"],[0.4444444444444444,\"#bd3786\"],[0.5555555555555556,\"#d8576b\"],[0.6666666666666666,\"#ed7953\"],[0.7777777777777778,\"#fb9f3a\"],[0.8888888888888888,\"#fdca26\"],[1.0,\"#f0f921\"]]}],\"contourcarpet\":[{\"type\":\"contourcarpet\",\"colorbar\":{\"outlinewidth\":0,\"ticks\":\"\"}}],\"contour\":[{\"type\":\"contour\",\"colorbar\":{\"outlinewidth\":0,\"ticks\":\"\"},\"colorscale\":[[0.0,\"#0d0887\"],[0.1111111111111111,\"#46039f\"],[0.2222222222222222,\"#7201a8\"],[0.3333333333333333,\"#9c179e\"],[0.4444444444444444,\"#bd3786\"],[0.5555555555555556,\"#d8576b\"],[0.6666666666666666,\"#ed7953\"],[0.7777777777777778,\"#fb9f3a\"],[0.8888888888888888,\"#fdca26\"],[1.0,\"#f0f921\"]]}],\"surface\":[{\"type\":\"surface\",\"colorbar\":{\"outlinewidth\":0,\"ticks\":\"\"},\"colorscale\":[[0.0,\"#0d0887\"],[0.1111111111111111,\"#46039f\"],[0.2222222222222222,\"#7201a8\"],[0.3333333333333333,\"#9c179e\"],[0.4444444444444444,\"#bd3786\"],[0.5555555555555556,\"#d8576b\"],[0.6666666666666666,\"#ed7953\"],[0.7777777777777778,\"#fb9f3a\"],[0.8888888888888888,\"#fdca26\"],[1.0,\"#f0f921\"]]}],\"mesh3d\":[{\"type\":\"mesh3d\",\"colorbar\":{\"outlinewidth\":0,\"ticks\":\"\"}}],\"scatter\":[{\"fillpattern\":{\"fillmode\":\"overlay\",\"size\":10,\"solidity\":0.2},\"type\":\"scatter\"}],\"parcoords\":[{\"type\":\"parcoords\",\"line\":{\"colorbar\":{\"outlinewidth\":0,\"ticks\":\"\"}}}],\"scatterpolargl\":[{\"type\":\"scatterpolargl\",\"marker\":{\"colorbar\":{\"outlinewidth\":0,\"ticks\":\"\"}}}],\"bar\":[{\"error_x\":{\"color\":\"#2a3f5f\"},\"error_y\":{\"color\":\"#2a3f5f\"},\"marker\":{\"line\":{\"color\":\"#E5ECF6\",\"width\":0.5},\"pattern\":{\"fillmode\":\"overlay\",\"size\":10,\"solidity\":0.2}},\"type\":\"bar\"}],\"scattergeo\":[{\"type\":\"scattergeo\",\"marker\":{\"colorbar\":{\"outlinewidth\":0,\"ticks\":\"\"}}}],\"scatterpolar\":[{\"type\":\"scatterpolar\",\"marker\":{\"colorbar\":{\"outlinewidth\":0,\"ticks\":\"\"}}}],\"histogram\":[{\"marker\":{\"pattern\":{\"fillmode\":\"overlay\",\"size\":10,\"solidity\":0.2}},\"type\":\"histogram\"}],\"scattergl\":[{\"type\":\"scattergl\",\"marker\":{\"colorbar\":{\"outlinewidth\":0,\"ticks\":\"\"}}}],\"scatter3d\":[{\"type\":\"scatter3d\",\"line\":{\"colorbar\":{\"outlinewidth\":0,\"ticks\":\"\"}},\"marker\":{\"colorbar\":{\"outlinewidth\":0,\"ticks\":\"\"}}}],\"scattermapbox\":[{\"type\":\"scattermapbox\",\"marker\":{\"colorbar\":{\"outlinewidth\":0,\"ticks\":\"\"}}}],\"scatterternary\":[{\"type\":\"scatterternary\",\"marker\":{\"colorbar\":{\"outlinewidth\":0,\"ticks\":\"\"}}}],\"scattercarpet\":[{\"type\":\"scattercarpet\",\"marker\":{\"colorbar\":{\"outlinewidth\":0,\"ticks\":\"\"}}}],\"carpet\":[{\"aaxis\":{\"endlinecolor\":\"#2a3f5f\",\"gridcolor\":\"white\",\"linecolor\":\"white\",\"minorgridcolor\":\"white\",\"startlinecolor\":\"#2a3f5f\"},\"baxis\":{\"endlinecolor\":\"#2a3f5f\",\"gridcolor\":\"white\",\"linecolor\":\"white\",\"minorgridcolor\":\"white\",\"startlinecolor\":\"#2a3f5f\"},\"type\":\"carpet\"}],\"table\":[{\"cells\":{\"fill\":{\"color\":\"#EBF0F8\"},\"line\":{\"color\":\"white\"}},\"header\":{\"fill\":{\"color\":\"#C8D4E3\"},\"line\":{\"color\":\"white\"}},\"type\":\"table\"}],\"barpolar\":[{\"marker\":{\"line\":{\"color\":\"#E5ECF6\",\"width\":0.5},\"pattern\":{\"fillmode\":\"overlay\",\"size\":10,\"solidity\":0.2}},\"type\":\"barpolar\"}],\"pie\":[{\"automargin\":true,\"type\":\"pie\"}]},\"layout\":{\"autotypenumbers\":\"strict\",\"colorway\":[\"#636efa\",\"#EF553B\",\"#00cc96\",\"#ab63fa\",\"#FFA15A\",\"#19d3f3\",\"#FF6692\",\"#B6E880\",\"#FF97FF\",\"#FECB52\"],\"font\":{\"color\":\"#2a3f5f\"},\"hovermode\":\"closest\",\"hoverlabel\":{\"align\":\"left\"},\"paper_bgcolor\":\"white\",\"plot_bgcolor\":\"#E5ECF6\",\"polar\":{\"bgcolor\":\"#E5ECF6\",\"angularaxis\":{\"gridcolor\":\"white\",\"linecolor\":\"white\",\"ticks\":\"\"},\"radialaxis\":{\"gridcolor\":\"white\",\"linecolor\":\"white\",\"ticks\":\"\"}},\"ternary\":{\"bgcolor\":\"#E5ECF6\",\"aaxis\":{\"gridcolor\":\"white\",\"linecolor\":\"white\",\"ticks\":\"\"},\"baxis\":{\"gridcolor\":\"white\",\"linecolor\":\"white\",\"ticks\":\"\"},\"caxis\":{\"gridcolor\":\"white\",\"linecolor\":\"white\",\"ticks\":\"\"}},\"coloraxis\":{\"colorbar\":{\"outlinewidth\":0,\"ticks\":\"\"}},\"colorscale\":{\"sequential\":[[0.0,\"#0d0887\"],[0.1111111111111111,\"#46039f\"],[0.2222222222222222,\"#7201a8\"],[0.3333333333333333,\"#9c179e\"],[0.4444444444444444,\"#bd3786\"],[0.5555555555555556,\"#d8576b\"],[0.6666666666666666,\"#ed7953\"],[0.7777777777777778,\"#fb9f3a\"],[0.8888888888888888,\"#fdca26\"],[1.0,\"#f0f921\"]],\"sequentialminus\":[[0.0,\"#0d0887\"],[0.1111111111111111,\"#46039f\"],[0.2222222222222222,\"#7201a8\"],[0.3333333333333333,\"#9c179e\"],[0.4444444444444444,\"#bd3786\"],[0.5555555555555556,\"#d8576b\"],[0.6666666666666666,\"#ed7953\"],[0.7777777777777778,\"#fb9f3a\"],[0.8888888888888888,\"#fdca26\"],[1.0,\"#f0f921\"]],\"diverging\":[[0,\"#8e0152\"],[0.1,\"#c51b7d\"],[0.2,\"#de77ae\"],[0.3,\"#f1b6da\"],[0.4,\"#fde0ef\"],[0.5,\"#f7f7f7\"],[0.6,\"#e6f5d0\"],[0.7,\"#b8e186\"],[0.8,\"#7fbc41\"],[0.9,\"#4d9221\"],[1,\"#276419\"]]},\"xaxis\":{\"gridcolor\":\"white\",\"linecolor\":\"white\",\"ticks\":\"\",\"title\":{\"standoff\":15},\"zerolinecolor\":\"white\",\"automargin\":true,\"zerolinewidth\":2},\"yaxis\":{\"gridcolor\":\"white\",\"linecolor\":\"white\",\"ticks\":\"\",\"title\":{\"standoff\":15},\"zerolinecolor\":\"white\",\"automargin\":true,\"zerolinewidth\":2},\"scene\":{\"xaxis\":{\"backgroundcolor\":\"#E5ECF6\",\"gridcolor\":\"white\",\"linecolor\":\"white\",\"showbackground\":true,\"ticks\":\"\",\"zerolinecolor\":\"white\",\"gridwidth\":2},\"yaxis\":{\"backgroundcolor\":\"#E5ECF6\",\"gridcolor\":\"white\",\"linecolor\":\"white\",\"showbackground\":true,\"ticks\":\"\",\"zerolinecolor\":\"white\",\"gridwidth\":2},\"zaxis\":{\"backgroundcolor\":\"#E5ECF6\",\"gridcolor\":\"white\",\"linecolor\":\"white\",\"showbackground\":true,\"ticks\":\"\",\"zerolinecolor\":\"white\",\"gridwidth\":2}},\"shapedefaults\":{\"line\":{\"color\":\"#2a3f5f\"}},\"annotationdefaults\":{\"arrowcolor\":\"#2a3f5f\",\"arrowhead\":0,\"arrowwidth\":1},\"geo\":{\"bgcolor\":\"white\",\"landcolor\":\"#E5ECF6\",\"subunitcolor\":\"white\",\"showland\":true,\"showlakes\":true,\"lakecolor\":\"white\"},\"title\":{\"x\":0.05},\"mapbox\":{\"style\":\"light\"}}},\"xaxis\":{\"title\":{\"text\":\"Situa\\u00e7\\u00e3o Sobre M\\u00e9dia de Pre\\u00e7o\"}},\"yaxis\":{\"title\":{\"text\":\"Pre\\u00e7o\"}},\"title\":{\"text\":\"Rent by Class\"},\"showlegend\":true},                        {\"responsive\": true}                    ).then(function(){\n",
       "                            \n",
       "var gd = document.getElementById('3b8733ec-1e78-4d3f-9933-7999c5ba2e4d');\n",
       "var x = new MutationObserver(function (mutations, observer) {{\n",
       "        var display = window.getComputedStyle(gd).display;\n",
       "        if (!display || display === 'none') {{\n",
       "            console.log([gd, 'removed!']);\n",
       "            Plotly.purge(gd);\n",
       "            observer.disconnect();\n",
       "        }}\n",
       "}});\n",
       "\n",
       "// Listen for the removal of the full notebook cells\n",
       "var notebookContainer = gd.closest('#notebook-container');\n",
       "if (notebookContainer) {{\n",
       "    x.observe(notebookContainer, {childList: true});\n",
       "}}\n",
       "\n",
       "// Listen for the clearing of the current output cell\n",
       "var outputEl = gd.closest('.output');\n",
       "if (outputEl) {{\n",
       "    x.observe(outputEl, {childList: true});\n",
       "}}\n",
       "\n",
       "                        })                };                });            </script>        </div>"
      ]
     },
     "metadata": {},
     "output_type": "display_data"
    }
   ],
   "source": [
    "fig = go.Figure()\n",
    "\n",
    "\n",
    "fig.add_trace(go.Box(x=merged_precos_maiores[\"Média de Preço\"],\n",
    "                    y=merged_precos_maiores[\"price\"],\n",
    "                    name=\"Altos Preços\",\n",
    "                    boxpoints=\"outliers\",\n",
    "                    marker_color=\"purple\"\n",
    "))\n",
    "\n",
    "\n",
    "fig.add_trace(go.Box(x=merged_precos_menores[\"Média de Preço\"],\n",
    "                    y=merged_precos_menores[\"price\"],\n",
    "                    name=\"Baixos Preços\",\n",
    "                    boxpoints=\"outliers\",\n",
    "                    marker_color=\"magenta\"\n",
    "))\n",
    "\n",
    "fig.update_layout(\n",
    "    xaxis=dict(title=\"Situação Sobre Média de Preço\"),\n",
    "    yaxis=dict(title=\"Preço\"),\n",
    "    title=\"Rent by Class\",\n",
    "    showlegend=True)\n",
    "\n",
    "\n",
    "\n",
    "\n",
    "fig.show()"
   ]
  },
  {
   "cell_type": "code",
   "execution_count": 24,
   "id": "57b45221",
   "metadata": {},
   "outputs": [
    {
     "data": {
      "text/html": [
       "<div>\n",
       "<style scoped>\n",
       "    .dataframe tbody tr th:only-of-type {\n",
       "        vertical-align: middle;\n",
       "    }\n",
       "\n",
       "    .dataframe tbody tr th {\n",
       "        vertical-align: top;\n",
       "    }\n",
       "\n",
       "    .dataframe thead th {\n",
       "        text-align: right;\n",
       "    }\n",
       "</style>\n",
       "<table border=\"1\" class=\"dataframe\">\n",
       "  <thead>\n",
       "    <tr style=\"text-align: right;\">\n",
       "      <th></th>\n",
       "      <th>seller_id</th>\n",
       "      <th>seller_zip_code_prefix</th>\n",
       "      <th>seller_city</th>\n",
       "      <th>seller_state</th>\n",
       "      <th>order_id</th>\n",
       "      <th>order_item_id</th>\n",
       "      <th>product_id</th>\n",
       "      <th>shipping_limit_date</th>\n",
       "      <th>price</th>\n",
       "      <th>freight_value</th>\n",
       "      <th>...</th>\n",
       "      <th>order_status</th>\n",
       "      <th>order_purchase_timestamp</th>\n",
       "      <th>order_approved_at</th>\n",
       "      <th>order_delivered_carrier_date</th>\n",
       "      <th>order_delivered_customer_date</th>\n",
       "      <th>order_estimated_delivery_date</th>\n",
       "      <th>customer_unique_id</th>\n",
       "      <th>customer_zip_code_prefix</th>\n",
       "      <th>customer_city</th>\n",
       "      <th>customer_state</th>\n",
       "    </tr>\n",
       "  </thead>\n",
       "  <tbody>\n",
       "    <tr>\n",
       "      <th>0</th>\n",
       "      <td>3442f8959a84dea7ee197c632cb2df15</td>\n",
       "      <td>13023.0</td>\n",
       "      <td>campinas</td>\n",
       "      <td>SP</td>\n",
       "      <td>4a90af3e85dd563884e2afeab1091394</td>\n",
       "      <td>1.0</td>\n",
       "      <td>ffb64e34a37740dafb6c88f1abd1fa61</td>\n",
       "      <td>2017-08-25 20:50:19</td>\n",
       "      <td>106.20</td>\n",
       "      <td>9.56</td>\n",
       "      <td>...</td>\n",
       "      <td>delivered</td>\n",
       "      <td>2017-08-21 20:35:44</td>\n",
       "      <td>2017-08-21 20:50:19</td>\n",
       "      <td>2017-08-29 20:33:29</td>\n",
       "      <td>2017-08-30 16:07:13</td>\n",
       "      <td>2017-09-01 00:00:00</td>\n",
       "      <td>f421a2a66b69dbfe6db0c87845281a90</td>\n",
       "      <td>4661</td>\n",
       "      <td>sao paulo</td>\n",
       "      <td>SP</td>\n",
       "    </tr>\n",
       "    <tr>\n",
       "      <th>1</th>\n",
       "      <td>3442f8959a84dea7ee197c632cb2df15</td>\n",
       "      <td>13023.0</td>\n",
       "      <td>campinas</td>\n",
       "      <td>SP</td>\n",
       "      <td>6d953888a914b67350d5bc4d48f2acab</td>\n",
       "      <td>1.0</td>\n",
       "      <td>f4621f8ad6f54a2e3c408884068be46d</td>\n",
       "      <td>2017-05-11 16:25:11</td>\n",
       "      <td>101.70</td>\n",
       "      <td>15.92</td>\n",
       "      <td>...</td>\n",
       "      <td>delivered</td>\n",
       "      <td>2017-05-05 16:12:29</td>\n",
       "      <td>2017-05-05 16:25:11</td>\n",
       "      <td>2017-05-12 05:43:55</td>\n",
       "      <td>2017-06-02 16:57:44</td>\n",
       "      <td>2017-05-30 00:00:00</td>\n",
       "      <td>b4527423469300ee354458e1b5f961be</td>\n",
       "      <td>32223</td>\n",
       "      <td>contagem</td>\n",
       "      <td>MG</td>\n",
       "    </tr>\n",
       "    <tr>\n",
       "      <th>2</th>\n",
       "      <td>3442f8959a84dea7ee197c632cb2df15</td>\n",
       "      <td>13023.0</td>\n",
       "      <td>campinas</td>\n",
       "      <td>SP</td>\n",
       "      <td>bc8a5de6abf5b14f98a6135a7fb46731</td>\n",
       "      <td>2.0</td>\n",
       "      <td>325a06bcce0da45b7f4ecf2797dd40e4</td>\n",
       "      <td>2017-09-05 12:50:19</td>\n",
       "      <td>10.80</td>\n",
       "      <td>2.42</td>\n",
       "      <td>...</td>\n",
       "      <td>delivered</td>\n",
       "      <td>2017-08-30 11:47:52</td>\n",
       "      <td>2017-08-30 12:50:19</td>\n",
       "      <td>2017-08-30 19:22:18</td>\n",
       "      <td>2017-09-01 16:51:26</td>\n",
       "      <td>2017-09-20 00:00:00</td>\n",
       "      <td>af0f26435fade1ca984d9affda307199</td>\n",
       "      <td>9310</td>\n",
       "      <td>maua</td>\n",
       "      <td>SP</td>\n",
       "    </tr>\n",
       "    <tr>\n",
       "      <th>3</th>\n",
       "      <td>8c16d1f32a54d92897cc437244442e1b</td>\n",
       "      <td>89023.0</td>\n",
       "      <td>blumenau</td>\n",
       "      <td>SC</td>\n",
       "      <td>bc8a5de6abf5b14f98a6135a7fb46731</td>\n",
       "      <td>1.0</td>\n",
       "      <td>1b37d55343061aa2b18b807945ff9831</td>\n",
       "      <td>2017-09-05 12:50:19</td>\n",
       "      <td>118.90</td>\n",
       "      <td>26.68</td>\n",
       "      <td>...</td>\n",
       "      <td>delivered</td>\n",
       "      <td>2017-08-30 11:47:52</td>\n",
       "      <td>2017-08-30 12:50:19</td>\n",
       "      <td>2017-08-30 19:22:18</td>\n",
       "      <td>2017-09-01 16:51:26</td>\n",
       "      <td>2017-09-20 00:00:00</td>\n",
       "      <td>af0f26435fade1ca984d9affda307199</td>\n",
       "      <td>9310</td>\n",
       "      <td>maua</td>\n",
       "      <td>SP</td>\n",
       "    </tr>\n",
       "    <tr>\n",
       "      <th>4</th>\n",
       "      <td>d1b65fc7debc3361ea86b5f14c68d2e2</td>\n",
       "      <td>13844.0</td>\n",
       "      <td>mogi guacu</td>\n",
       "      <td>SP</td>\n",
       "      <td>035201c3c82a97f8a25dd6bd5244b2d5</td>\n",
       "      <td>1.0</td>\n",
       "      <td>1c36a5285f7f3b1ed2637d7c528ce5ff</td>\n",
       "      <td>2017-11-22 04:30:29</td>\n",
       "      <td>89.99</td>\n",
       "      <td>45.09</td>\n",
       "      <td>...</td>\n",
       "      <td>delivered</td>\n",
       "      <td>2017-11-10 16:54:13</td>\n",
       "      <td>2017-11-14 04:31:07</td>\n",
       "      <td>2017-11-14 20:06:59</td>\n",
       "      <td>2017-11-21 23:26:35</td>\n",
       "      <td>2017-12-04 00:00:00</td>\n",
       "      <td>be1401bbfd64455c798bb4683e915c61</td>\n",
       "      <td>22050</td>\n",
       "      <td>rio de janeiro</td>\n",
       "      <td>RJ</td>\n",
       "    </tr>\n",
       "  </tbody>\n",
       "</table>\n",
       "<p>5 rows × 39 columns</p>\n",
       "</div>"
      ],
      "text/plain": [
       "                          seller_id  seller_zip_code_prefix seller_city  \\\n",
       "0  3442f8959a84dea7ee197c632cb2df15                 13023.0    campinas   \n",
       "1  3442f8959a84dea7ee197c632cb2df15                 13023.0    campinas   \n",
       "2  3442f8959a84dea7ee197c632cb2df15                 13023.0    campinas   \n",
       "3  8c16d1f32a54d92897cc437244442e1b                 89023.0    blumenau   \n",
       "4  d1b65fc7debc3361ea86b5f14c68d2e2                 13844.0  mogi guacu   \n",
       "\n",
       "  seller_state                          order_id  order_item_id  \\\n",
       "0           SP  4a90af3e85dd563884e2afeab1091394            1.0   \n",
       "1           SP  6d953888a914b67350d5bc4d48f2acab            1.0   \n",
       "2           SP  bc8a5de6abf5b14f98a6135a7fb46731            2.0   \n",
       "3           SC  bc8a5de6abf5b14f98a6135a7fb46731            1.0   \n",
       "4           SP  035201c3c82a97f8a25dd6bd5244b2d5            1.0   \n",
       "\n",
       "                         product_id  shipping_limit_date   price  \\\n",
       "0  ffb64e34a37740dafb6c88f1abd1fa61  2017-08-25 20:50:19  106.20   \n",
       "1  f4621f8ad6f54a2e3c408884068be46d  2017-05-11 16:25:11  101.70   \n",
       "2  325a06bcce0da45b7f4ecf2797dd40e4  2017-09-05 12:50:19   10.80   \n",
       "3  1b37d55343061aa2b18b807945ff9831  2017-09-05 12:50:19  118.90   \n",
       "4  1c36a5285f7f3b1ed2637d7c528ce5ff  2017-11-22 04:30:29   89.99   \n",
       "\n",
       "   freight_value  ... order_status  order_purchase_timestamp  \\\n",
       "0           9.56  ...    delivered       2017-08-21 20:35:44   \n",
       "1          15.92  ...    delivered       2017-05-05 16:12:29   \n",
       "2           2.42  ...    delivered       2017-08-30 11:47:52   \n",
       "3          26.68  ...    delivered       2017-08-30 11:47:52   \n",
       "4          45.09  ...    delivered       2017-11-10 16:54:13   \n",
       "\n",
       "     order_approved_at  order_delivered_carrier_date  \\\n",
       "0  2017-08-21 20:50:19           2017-08-29 20:33:29   \n",
       "1  2017-05-05 16:25:11           2017-05-12 05:43:55   \n",
       "2  2017-08-30 12:50:19           2017-08-30 19:22:18   \n",
       "3  2017-08-30 12:50:19           2017-08-30 19:22:18   \n",
       "4  2017-11-14 04:31:07           2017-11-14 20:06:59   \n",
       "\n",
       "   order_delivered_customer_date  order_estimated_delivery_date  \\\n",
       "0            2017-08-30 16:07:13            2017-09-01 00:00:00   \n",
       "1            2017-06-02 16:57:44            2017-05-30 00:00:00   \n",
       "2            2017-09-01 16:51:26            2017-09-20 00:00:00   \n",
       "3            2017-09-01 16:51:26            2017-09-20 00:00:00   \n",
       "4            2017-11-21 23:26:35            2017-12-04 00:00:00   \n",
       "\n",
       "                 customer_unique_id  customer_zip_code_prefix   customer_city  \\\n",
       "0  f421a2a66b69dbfe6db0c87845281a90                      4661       sao paulo   \n",
       "1  b4527423469300ee354458e1b5f961be                     32223        contagem   \n",
       "2  af0f26435fade1ca984d9affda307199                      9310            maua   \n",
       "3  af0f26435fade1ca984d9affda307199                      9310            maua   \n",
       "4  be1401bbfd64455c798bb4683e915c61                     22050  rio de janeiro   \n",
       "\n",
       "   customer_state  \n",
       "0              SP  \n",
       "1              MG  \n",
       "2              SP  \n",
       "3              SP  \n",
       "4              RJ  \n",
       "\n",
       "[5 rows x 39 columns]"
      ]
     },
     "execution_count": 24,
     "metadata": {},
     "output_type": "execute_result"
    }
   ],
   "source": [
    "merged.head()"
   ]
  },
  {
   "cell_type": "code",
   "execution_count": 48,
   "id": "4430bf90",
   "metadata": {},
   "outputs": [],
   "source": [
    "merged = merged.dropna(axis=0, subset=['order_estimated_delivery_date'])\n"
   ]
  },
  {
   "cell_type": "code",
   "execution_count": 49,
   "id": "41261df3",
   "metadata": {},
   "outputs": [],
   "source": [
    "tabela2016_ = merged[merged[\"order_purchase_timestamp\"].str.contains(\"2016-\")]\n",
    "tabela2017 = merged[merged[\"order_purchase_timestamp\"].str.contains(\"2017-\")]\n",
    "tabela2018 = merged[merged[\"order_purchase_timestamp\"].str.contains(\"2018-\")]\n"
   ]
  },
  {
   "cell_type": "code",
   "execution_count": 50,
   "id": "c1b64c24",
   "metadata": {},
   "outputs": [
    {
     "name": "stderr",
     "output_type": "stream",
     "text": [
      "C:\\Users\\ferna\\AppData\\Local\\Temp\\ipykernel_9412\\1657190718.py:4: SettingWithCopyWarning:\n",
      "\n",
      "\n",
      "A value is trying to be set on a copy of a slice from a DataFrame.\n",
      "Try using .loc[row_indexer,col_indexer] = value instead\n",
      "\n",
      "See the caveats in the documentation: https://pandas.pydata.org/pandas-docs/stable/user_guide/indexing.html#returning-a-view-versus-a-copy\n",
      "\n",
      "C:\\Users\\ferna\\AppData\\Local\\Temp\\ipykernel_9412\\1657190718.py:5: SettingWithCopyWarning:\n",
      "\n",
      "\n",
      "A value is trying to be set on a copy of a slice from a DataFrame.\n",
      "Try using .loc[row_indexer,col_indexer] = value instead\n",
      "\n",
      "See the caveats in the documentation: https://pandas.pydata.org/pandas-docs/stable/user_guide/indexing.html#returning-a-view-versus-a-copy\n",
      "\n",
      "C:\\Users\\ferna\\AppData\\Local\\Temp\\ipykernel_9412\\1657190718.py:11: SettingWithCopyWarning:\n",
      "\n",
      "\n",
      "A value is trying to be set on a copy of a slice from a DataFrame.\n",
      "Try using .loc[row_indexer,col_indexer] = value instead\n",
      "\n",
      "See the caveats in the documentation: https://pandas.pydata.org/pandas-docs/stable/user_guide/indexing.html#returning-a-view-versus-a-copy\n",
      "\n",
      "C:\\Users\\ferna\\AppData\\Local\\Temp\\ipykernel_9412\\1657190718.py:12: SettingWithCopyWarning:\n",
      "\n",
      "\n",
      "A value is trying to be set on a copy of a slice from a DataFrame.\n",
      "Try using .loc[row_indexer,col_indexer] = value instead\n",
      "\n",
      "See the caveats in the documentation: https://pandas.pydata.org/pandas-docs/stable/user_guide/indexing.html#returning-a-view-versus-a-copy\n",
      "\n",
      "C:\\Users\\ferna\\AppData\\Local\\Temp\\ipykernel_9412\\1657190718.py:17: SettingWithCopyWarning:\n",
      "\n",
      "\n",
      "A value is trying to be set on a copy of a slice from a DataFrame.\n",
      "Try using .loc[row_indexer,col_indexer] = value instead\n",
      "\n",
      "See the caveats in the documentation: https://pandas.pydata.org/pandas-docs/stable/user_guide/indexing.html#returning-a-view-versus-a-copy\n",
      "\n",
      "C:\\Users\\ferna\\AppData\\Local\\Temp\\ipykernel_9412\\1657190718.py:18: SettingWithCopyWarning:\n",
      "\n",
      "\n",
      "A value is trying to be set on a copy of a slice from a DataFrame.\n",
      "Try using .loc[row_indexer,col_indexer] = value instead\n",
      "\n",
      "See the caveats in the documentation: https://pandas.pydata.org/pandas-docs/stable/user_guide/indexing.html#returning-a-view-versus-a-copy\n",
      "\n"
     ]
    }
   ],
   "source": [
    "tabela2016_atrasados = tabela2016_[tabela2016_[\"order_estimated_delivery_date\"]<tabela2016_[\"order_delivered_customer_date\"]]\n",
    "tabela2016_nahora = tabela2016_[tabela2016_[\"order_estimated_delivery_date\"]>=tabela2016_[\"order_delivered_customer_date\"]]\n",
    "\n",
    "tabela2016_atrasados [\"Situação_do_Pedido\"] = \"Atraso\"\n",
    "tabela2016_nahora [\"Situação_do_Pedido\"] = \"Sem Atraso\"\n",
    "\n",
    "\n",
    "tabela2017_atrasados = tabela2017[tabela2017[\"order_estimated_delivery_date\"]<tabela2017[\"order_delivered_customer_date\"]]\n",
    "tabela2017_nahora =  tabela2017[tabela2017[\"order_estimated_delivery_date\"]>=tabela2017[\"order_delivered_customer_date\"]]\n",
    "\n",
    "tabela2017_atrasados [\"Situação_do_Pedido\"] = \"Atraso\"\n",
    "tabela2017_nahora [\"Situação_do_Pedido\"] = \"Sem Atraso\"\n",
    "\n",
    "tabela2018_atrasados = tabela2018[tabela2018[\"order_estimated_delivery_date\"]<tabela2018[\"order_delivered_customer_date\"]]\n",
    "tabela2018_nahora =  tabela2018[tabela2018[\"order_estimated_delivery_date\"]>=tabela2018[\"order_delivered_customer_date\"]]\n",
    "\n",
    "tabela2018_atrasados [\"Situação_do_Pedido\"] = \"Atraso\"\n",
    "tabela2018_nahora [\"Situação_do_Pedido\"] = \"Sem Atraso\""
   ]
  },
  {
   "cell_type": "code",
   "execution_count": 51,
   "id": "96e07918",
   "metadata": {},
   "outputs": [],
   "source": [
    "\n",
    "\n",
    "merged_series2016 = pd.concat([tabela2016_atrasados, tabela2016_nahora])\n",
    "merged_series2017 = pd.concat([tabela2017_atrasados, tabela2017_nahora])\n",
    "merged_series2018 = pd.concat([tabela2018_atrasados, tabela2018_nahora])\n"
   ]
  },
  {
   "cell_type": "code",
   "execution_count": 52,
   "id": "8e56dd98",
   "metadata": {},
   "outputs": [],
   "source": [
    "df2016_final = merged_series2016.Situação_do_Pedido.value_counts()\n",
    "df2017_final = merged_series2017.Situação_do_Pedido.value_counts()\n",
    "df2018_final = merged_series2018.Situação_do_Pedido.value_counts()\n"
   ]
  },
  {
   "cell_type": "code",
   "execution_count": 53,
   "id": "780026cf",
   "metadata": {},
   "outputs": [
    {
     "data": {
      "text/plain": [
       "Situação_do_Pedido\n",
       "Sem Atraso    338\n",
       "Atraso          6\n",
       "Name: count, dtype: int64"
      ]
     },
     "execution_count": 53,
     "metadata": {},
     "output_type": "execute_result"
    }
   ],
   "source": [
    "df2016_final"
   ]
  },
  {
   "cell_type": "code",
   "execution_count": 55,
   "id": "0e0f2a91",
   "metadata": {},
   "outputs": [
    {
     "data": {
      "application/vnd.plotly.v1+json": {
       "config": {
        "plotlyServerURL": "https://plot.ly"
       },
       "data": [
        {
         "marker": {
          "color": "magenta"
         },
         "name": "Ano de 2016",
         "type": "bar",
         "x": [
          "Sem Atraso",
          "Atraso"
         ],
         "y": [
          338,
          6
         ]
        },
        {
         "marker": {
          "color": "purple"
         },
         "name": "Ano de 2017",
         "type": "bar",
         "x": [
          "Sem Atraso",
          "Atraso"
         ],
         "y": [
          49197,
          3378
         ]
        },
        {
         "marker": {
          "color": "orchid"
         },
         "name": "Ano de 2018",
         "type": "bar",
         "x": [
          "Sem Atraso",
          "Atraso"
         ],
         "y": [
          57119,
          5684
         ]
        }
       ],
       "layout": {
        "template": {
         "data": {
          "bar": [
           {
            "error_x": {
             "color": "#2a3f5f"
            },
            "error_y": {
             "color": "#2a3f5f"
            },
            "marker": {
             "line": {
              "color": "#E5ECF6",
              "width": 0.5
             },
             "pattern": {
              "fillmode": "overlay",
              "size": 10,
              "solidity": 0.2
             }
            },
            "type": "bar"
           }
          ],
          "barpolar": [
           {
            "marker": {
             "line": {
              "color": "#E5ECF6",
              "width": 0.5
             },
             "pattern": {
              "fillmode": "overlay",
              "size": 10,
              "solidity": 0.2
             }
            },
            "type": "barpolar"
           }
          ],
          "carpet": [
           {
            "aaxis": {
             "endlinecolor": "#2a3f5f",
             "gridcolor": "white",
             "linecolor": "white",
             "minorgridcolor": "white",
             "startlinecolor": "#2a3f5f"
            },
            "baxis": {
             "endlinecolor": "#2a3f5f",
             "gridcolor": "white",
             "linecolor": "white",
             "minorgridcolor": "white",
             "startlinecolor": "#2a3f5f"
            },
            "type": "carpet"
           }
          ],
          "choropleth": [
           {
            "colorbar": {
             "outlinewidth": 0,
             "ticks": ""
            },
            "type": "choropleth"
           }
          ],
          "contour": [
           {
            "colorbar": {
             "outlinewidth": 0,
             "ticks": ""
            },
            "colorscale": [
             [
              0,
              "#0d0887"
             ],
             [
              0.1111111111111111,
              "#46039f"
             ],
             [
              0.2222222222222222,
              "#7201a8"
             ],
             [
              0.3333333333333333,
              "#9c179e"
             ],
             [
              0.4444444444444444,
              "#bd3786"
             ],
             [
              0.5555555555555556,
              "#d8576b"
             ],
             [
              0.6666666666666666,
              "#ed7953"
             ],
             [
              0.7777777777777778,
              "#fb9f3a"
             ],
             [
              0.8888888888888888,
              "#fdca26"
             ],
             [
              1,
              "#f0f921"
             ]
            ],
            "type": "contour"
           }
          ],
          "contourcarpet": [
           {
            "colorbar": {
             "outlinewidth": 0,
             "ticks": ""
            },
            "type": "contourcarpet"
           }
          ],
          "heatmap": [
           {
            "colorbar": {
             "outlinewidth": 0,
             "ticks": ""
            },
            "colorscale": [
             [
              0,
              "#0d0887"
             ],
             [
              0.1111111111111111,
              "#46039f"
             ],
             [
              0.2222222222222222,
              "#7201a8"
             ],
             [
              0.3333333333333333,
              "#9c179e"
             ],
             [
              0.4444444444444444,
              "#bd3786"
             ],
             [
              0.5555555555555556,
              "#d8576b"
             ],
             [
              0.6666666666666666,
              "#ed7953"
             ],
             [
              0.7777777777777778,
              "#fb9f3a"
             ],
             [
              0.8888888888888888,
              "#fdca26"
             ],
             [
              1,
              "#f0f921"
             ]
            ],
            "type": "heatmap"
           }
          ],
          "heatmapgl": [
           {
            "colorbar": {
             "outlinewidth": 0,
             "ticks": ""
            },
            "colorscale": [
             [
              0,
              "#0d0887"
             ],
             [
              0.1111111111111111,
              "#46039f"
             ],
             [
              0.2222222222222222,
              "#7201a8"
             ],
             [
              0.3333333333333333,
              "#9c179e"
             ],
             [
              0.4444444444444444,
              "#bd3786"
             ],
             [
              0.5555555555555556,
              "#d8576b"
             ],
             [
              0.6666666666666666,
              "#ed7953"
             ],
             [
              0.7777777777777778,
              "#fb9f3a"
             ],
             [
              0.8888888888888888,
              "#fdca26"
             ],
             [
              1,
              "#f0f921"
             ]
            ],
            "type": "heatmapgl"
           }
          ],
          "histogram": [
           {
            "marker": {
             "pattern": {
              "fillmode": "overlay",
              "size": 10,
              "solidity": 0.2
             }
            },
            "type": "histogram"
           }
          ],
          "histogram2d": [
           {
            "colorbar": {
             "outlinewidth": 0,
             "ticks": ""
            },
            "colorscale": [
             [
              0,
              "#0d0887"
             ],
             [
              0.1111111111111111,
              "#46039f"
             ],
             [
              0.2222222222222222,
              "#7201a8"
             ],
             [
              0.3333333333333333,
              "#9c179e"
             ],
             [
              0.4444444444444444,
              "#bd3786"
             ],
             [
              0.5555555555555556,
              "#d8576b"
             ],
             [
              0.6666666666666666,
              "#ed7953"
             ],
             [
              0.7777777777777778,
              "#fb9f3a"
             ],
             [
              0.8888888888888888,
              "#fdca26"
             ],
             [
              1,
              "#f0f921"
             ]
            ],
            "type": "histogram2d"
           }
          ],
          "histogram2dcontour": [
           {
            "colorbar": {
             "outlinewidth": 0,
             "ticks": ""
            },
            "colorscale": [
             [
              0,
              "#0d0887"
             ],
             [
              0.1111111111111111,
              "#46039f"
             ],
             [
              0.2222222222222222,
              "#7201a8"
             ],
             [
              0.3333333333333333,
              "#9c179e"
             ],
             [
              0.4444444444444444,
              "#bd3786"
             ],
             [
              0.5555555555555556,
              "#d8576b"
             ],
             [
              0.6666666666666666,
              "#ed7953"
             ],
             [
              0.7777777777777778,
              "#fb9f3a"
             ],
             [
              0.8888888888888888,
              "#fdca26"
             ],
             [
              1,
              "#f0f921"
             ]
            ],
            "type": "histogram2dcontour"
           }
          ],
          "mesh3d": [
           {
            "colorbar": {
             "outlinewidth": 0,
             "ticks": ""
            },
            "type": "mesh3d"
           }
          ],
          "parcoords": [
           {
            "line": {
             "colorbar": {
              "outlinewidth": 0,
              "ticks": ""
             }
            },
            "type": "parcoords"
           }
          ],
          "pie": [
           {
            "automargin": true,
            "type": "pie"
           }
          ],
          "scatter": [
           {
            "fillpattern": {
             "fillmode": "overlay",
             "size": 10,
             "solidity": 0.2
            },
            "type": "scatter"
           }
          ],
          "scatter3d": [
           {
            "line": {
             "colorbar": {
              "outlinewidth": 0,
              "ticks": ""
             }
            },
            "marker": {
             "colorbar": {
              "outlinewidth": 0,
              "ticks": ""
             }
            },
            "type": "scatter3d"
           }
          ],
          "scattercarpet": [
           {
            "marker": {
             "colorbar": {
              "outlinewidth": 0,
              "ticks": ""
             }
            },
            "type": "scattercarpet"
           }
          ],
          "scattergeo": [
           {
            "marker": {
             "colorbar": {
              "outlinewidth": 0,
              "ticks": ""
             }
            },
            "type": "scattergeo"
           }
          ],
          "scattergl": [
           {
            "marker": {
             "colorbar": {
              "outlinewidth": 0,
              "ticks": ""
             }
            },
            "type": "scattergl"
           }
          ],
          "scattermapbox": [
           {
            "marker": {
             "colorbar": {
              "outlinewidth": 0,
              "ticks": ""
             }
            },
            "type": "scattermapbox"
           }
          ],
          "scatterpolar": [
           {
            "marker": {
             "colorbar": {
              "outlinewidth": 0,
              "ticks": ""
             }
            },
            "type": "scatterpolar"
           }
          ],
          "scatterpolargl": [
           {
            "marker": {
             "colorbar": {
              "outlinewidth": 0,
              "ticks": ""
             }
            },
            "type": "scatterpolargl"
           }
          ],
          "scatterternary": [
           {
            "marker": {
             "colorbar": {
              "outlinewidth": 0,
              "ticks": ""
             }
            },
            "type": "scatterternary"
           }
          ],
          "surface": [
           {
            "colorbar": {
             "outlinewidth": 0,
             "ticks": ""
            },
            "colorscale": [
             [
              0,
              "#0d0887"
             ],
             [
              0.1111111111111111,
              "#46039f"
             ],
             [
              0.2222222222222222,
              "#7201a8"
             ],
             [
              0.3333333333333333,
              "#9c179e"
             ],
             [
              0.4444444444444444,
              "#bd3786"
             ],
             [
              0.5555555555555556,
              "#d8576b"
             ],
             [
              0.6666666666666666,
              "#ed7953"
             ],
             [
              0.7777777777777778,
              "#fb9f3a"
             ],
             [
              0.8888888888888888,
              "#fdca26"
             ],
             [
              1,
              "#f0f921"
             ]
            ],
            "type": "surface"
           }
          ],
          "table": [
           {
            "cells": {
             "fill": {
              "color": "#EBF0F8"
             },
             "line": {
              "color": "white"
             }
            },
            "header": {
             "fill": {
              "color": "#C8D4E3"
             },
             "line": {
              "color": "white"
             }
            },
            "type": "table"
           }
          ]
         },
         "layout": {
          "annotationdefaults": {
           "arrowcolor": "#2a3f5f",
           "arrowhead": 0,
           "arrowwidth": 1
          },
          "autotypenumbers": "strict",
          "coloraxis": {
           "colorbar": {
            "outlinewidth": 0,
            "ticks": ""
           }
          },
          "colorscale": {
           "diverging": [
            [
             0,
             "#8e0152"
            ],
            [
             0.1,
             "#c51b7d"
            ],
            [
             0.2,
             "#de77ae"
            ],
            [
             0.3,
             "#f1b6da"
            ],
            [
             0.4,
             "#fde0ef"
            ],
            [
             0.5,
             "#f7f7f7"
            ],
            [
             0.6,
             "#e6f5d0"
            ],
            [
             0.7,
             "#b8e186"
            ],
            [
             0.8,
             "#7fbc41"
            ],
            [
             0.9,
             "#4d9221"
            ],
            [
             1,
             "#276419"
            ]
           ],
           "sequential": [
            [
             0,
             "#0d0887"
            ],
            [
             0.1111111111111111,
             "#46039f"
            ],
            [
             0.2222222222222222,
             "#7201a8"
            ],
            [
             0.3333333333333333,
             "#9c179e"
            ],
            [
             0.4444444444444444,
             "#bd3786"
            ],
            [
             0.5555555555555556,
             "#d8576b"
            ],
            [
             0.6666666666666666,
             "#ed7953"
            ],
            [
             0.7777777777777778,
             "#fb9f3a"
            ],
            [
             0.8888888888888888,
             "#fdca26"
            ],
            [
             1,
             "#f0f921"
            ]
           ],
           "sequentialminus": [
            [
             0,
             "#0d0887"
            ],
            [
             0.1111111111111111,
             "#46039f"
            ],
            [
             0.2222222222222222,
             "#7201a8"
            ],
            [
             0.3333333333333333,
             "#9c179e"
            ],
            [
             0.4444444444444444,
             "#bd3786"
            ],
            [
             0.5555555555555556,
             "#d8576b"
            ],
            [
             0.6666666666666666,
             "#ed7953"
            ],
            [
             0.7777777777777778,
             "#fb9f3a"
            ],
            [
             0.8888888888888888,
             "#fdca26"
            ],
            [
             1,
             "#f0f921"
            ]
           ]
          },
          "colorway": [
           "#636efa",
           "#EF553B",
           "#00cc96",
           "#ab63fa",
           "#FFA15A",
           "#19d3f3",
           "#FF6692",
           "#B6E880",
           "#FF97FF",
           "#FECB52"
          ],
          "font": {
           "color": "#2a3f5f"
          },
          "geo": {
           "bgcolor": "white",
           "lakecolor": "white",
           "landcolor": "#E5ECF6",
           "showlakes": true,
           "showland": true,
           "subunitcolor": "white"
          },
          "hoverlabel": {
           "align": "left"
          },
          "hovermode": "closest",
          "mapbox": {
           "style": "light"
          },
          "paper_bgcolor": "white",
          "plot_bgcolor": "#E5ECF6",
          "polar": {
           "angularaxis": {
            "gridcolor": "white",
            "linecolor": "white",
            "ticks": ""
           },
           "bgcolor": "#E5ECF6",
           "radialaxis": {
            "gridcolor": "white",
            "linecolor": "white",
            "ticks": ""
           }
          },
          "scene": {
           "xaxis": {
            "backgroundcolor": "#E5ECF6",
            "gridcolor": "white",
            "gridwidth": 2,
            "linecolor": "white",
            "showbackground": true,
            "ticks": "",
            "zerolinecolor": "white"
           },
           "yaxis": {
            "backgroundcolor": "#E5ECF6",
            "gridcolor": "white",
            "gridwidth": 2,
            "linecolor": "white",
            "showbackground": true,
            "ticks": "",
            "zerolinecolor": "white"
           },
           "zaxis": {
            "backgroundcolor": "#E5ECF6",
            "gridcolor": "white",
            "gridwidth": 2,
            "linecolor": "white",
            "showbackground": true,
            "ticks": "",
            "zerolinecolor": "white"
           }
          },
          "shapedefaults": {
           "line": {
            "color": "#2a3f5f"
           }
          },
          "ternary": {
           "aaxis": {
            "gridcolor": "white",
            "linecolor": "white",
            "ticks": ""
           },
           "baxis": {
            "gridcolor": "white",
            "linecolor": "white",
            "ticks": ""
           },
           "bgcolor": "#E5ECF6",
           "caxis": {
            "gridcolor": "white",
            "linecolor": "white",
            "ticks": ""
           }
          },
          "title": {
           "x": 0.05
          },
          "xaxis": {
           "automargin": true,
           "gridcolor": "white",
           "linecolor": "white",
           "ticks": "",
           "title": {
            "standoff": 15
           },
           "zerolinecolor": "white",
           "zerolinewidth": 2
          },
          "yaxis": {
           "automargin": true,
           "gridcolor": "white",
           "linecolor": "white",
           "ticks": "",
           "title": {
            "standoff": 15
           },
           "zerolinecolor": "white",
           "zerolinewidth": 2
          }
         }
        },
        "title": {
         "text": "Relação entre atraso e ano"
        },
        "xaxis": {
         "title": {
          "text": "Situação do Pedido"
         }
        },
        "yaxis": {
         "title": {
          "text": "Número de Pedidos"
         }
        }
       }
      },
      "text/html": [
       "<div>                            <div id=\"fcb831d1-2543-4d4b-84c2-8ad4366112e6\" class=\"plotly-graph-div\" style=\"height:525px; width:100%;\"></div>            <script type=\"text/javascript\">                require([\"plotly\"], function(Plotly) {                    window.PLOTLYENV=window.PLOTLYENV || {};                                    if (document.getElementById(\"fcb831d1-2543-4d4b-84c2-8ad4366112e6\")) {                    Plotly.newPlot(                        \"fcb831d1-2543-4d4b-84c2-8ad4366112e6\",                        [{\"marker\":{\"color\":\"magenta\"},\"name\":\"Ano de 2016\",\"x\":[\"Sem Atraso\",\"Atraso\"],\"y\":[338,6],\"type\":\"bar\"},{\"marker\":{\"color\":\"purple\"},\"name\":\"Ano de 2017\",\"x\":[\"Sem Atraso\",\"Atraso\"],\"y\":[49197,3378],\"type\":\"bar\"},{\"marker\":{\"color\":\"orchid\"},\"name\":\"Ano de 2018\",\"x\":[\"Sem Atraso\",\"Atraso\"],\"y\":[57119,5684],\"type\":\"bar\"}],                        {\"template\":{\"data\":{\"histogram2dcontour\":[{\"type\":\"histogram2dcontour\",\"colorbar\":{\"outlinewidth\":0,\"ticks\":\"\"},\"colorscale\":[[0.0,\"#0d0887\"],[0.1111111111111111,\"#46039f\"],[0.2222222222222222,\"#7201a8\"],[0.3333333333333333,\"#9c179e\"],[0.4444444444444444,\"#bd3786\"],[0.5555555555555556,\"#d8576b\"],[0.6666666666666666,\"#ed7953\"],[0.7777777777777778,\"#fb9f3a\"],[0.8888888888888888,\"#fdca26\"],[1.0,\"#f0f921\"]]}],\"choropleth\":[{\"type\":\"choropleth\",\"colorbar\":{\"outlinewidth\":0,\"ticks\":\"\"}}],\"histogram2d\":[{\"type\":\"histogram2d\",\"colorbar\":{\"outlinewidth\":0,\"ticks\":\"\"},\"colorscale\":[[0.0,\"#0d0887\"],[0.1111111111111111,\"#46039f\"],[0.2222222222222222,\"#7201a8\"],[0.3333333333333333,\"#9c179e\"],[0.4444444444444444,\"#bd3786\"],[0.5555555555555556,\"#d8576b\"],[0.6666666666666666,\"#ed7953\"],[0.7777777777777778,\"#fb9f3a\"],[0.8888888888888888,\"#fdca26\"],[1.0,\"#f0f921\"]]}],\"heatmap\":[{\"type\":\"heatmap\",\"colorbar\":{\"outlinewidth\":0,\"ticks\":\"\"},\"colorscale\":[[0.0,\"#0d0887\"],[0.1111111111111111,\"#46039f\"],[0.2222222222222222,\"#7201a8\"],[0.3333333333333333,\"#9c179e\"],[0.4444444444444444,\"#bd3786\"],[0.5555555555555556,\"#d8576b\"],[0.6666666666666666,\"#ed7953\"],[0.7777777777777778,\"#fb9f3a\"],[0.8888888888888888,\"#fdca26\"],[1.0,\"#f0f921\"]]}],\"heatmapgl\":[{\"type\":\"heatmapgl\",\"colorbar\":{\"outlinewidth\":0,\"ticks\":\"\"},\"colorscale\":[[0.0,\"#0d0887\"],[0.1111111111111111,\"#46039f\"],[0.2222222222222222,\"#7201a8\"],[0.3333333333333333,\"#9c179e\"],[0.4444444444444444,\"#bd3786\"],[0.5555555555555556,\"#d8576b\"],[0.6666666666666666,\"#ed7953\"],[0.7777777777777778,\"#fb9f3a\"],[0.8888888888888888,\"#fdca26\"],[1.0,\"#f0f921\"]]}],\"contourcarpet\":[{\"type\":\"contourcarpet\",\"colorbar\":{\"outlinewidth\":0,\"ticks\":\"\"}}],\"contour\":[{\"type\":\"contour\",\"colorbar\":{\"outlinewidth\":0,\"ticks\":\"\"},\"colorscale\":[[0.0,\"#0d0887\"],[0.1111111111111111,\"#46039f\"],[0.2222222222222222,\"#7201a8\"],[0.3333333333333333,\"#9c179e\"],[0.4444444444444444,\"#bd3786\"],[0.5555555555555556,\"#d8576b\"],[0.6666666666666666,\"#ed7953\"],[0.7777777777777778,\"#fb9f3a\"],[0.8888888888888888,\"#fdca26\"],[1.0,\"#f0f921\"]]}],\"surface\":[{\"type\":\"surface\",\"colorbar\":{\"outlinewidth\":0,\"ticks\":\"\"},\"colorscale\":[[0.0,\"#0d0887\"],[0.1111111111111111,\"#46039f\"],[0.2222222222222222,\"#7201a8\"],[0.3333333333333333,\"#9c179e\"],[0.4444444444444444,\"#bd3786\"],[0.5555555555555556,\"#d8576b\"],[0.6666666666666666,\"#ed7953\"],[0.7777777777777778,\"#fb9f3a\"],[0.8888888888888888,\"#fdca26\"],[1.0,\"#f0f921\"]]}],\"mesh3d\":[{\"type\":\"mesh3d\",\"colorbar\":{\"outlinewidth\":0,\"ticks\":\"\"}}],\"scatter\":[{\"fillpattern\":{\"fillmode\":\"overlay\",\"size\":10,\"solidity\":0.2},\"type\":\"scatter\"}],\"parcoords\":[{\"type\":\"parcoords\",\"line\":{\"colorbar\":{\"outlinewidth\":0,\"ticks\":\"\"}}}],\"scatterpolargl\":[{\"type\":\"scatterpolargl\",\"marker\":{\"colorbar\":{\"outlinewidth\":0,\"ticks\":\"\"}}}],\"bar\":[{\"error_x\":{\"color\":\"#2a3f5f\"},\"error_y\":{\"color\":\"#2a3f5f\"},\"marker\":{\"line\":{\"color\":\"#E5ECF6\",\"width\":0.5},\"pattern\":{\"fillmode\":\"overlay\",\"size\":10,\"solidity\":0.2}},\"type\":\"bar\"}],\"scattergeo\":[{\"type\":\"scattergeo\",\"marker\":{\"colorbar\":{\"outlinewidth\":0,\"ticks\":\"\"}}}],\"scatterpolar\":[{\"type\":\"scatterpolar\",\"marker\":{\"colorbar\":{\"outlinewidth\":0,\"ticks\":\"\"}}}],\"histogram\":[{\"marker\":{\"pattern\":{\"fillmode\":\"overlay\",\"size\":10,\"solidity\":0.2}},\"type\":\"histogram\"}],\"scattergl\":[{\"type\":\"scattergl\",\"marker\":{\"colorbar\":{\"outlinewidth\":0,\"ticks\":\"\"}}}],\"scatter3d\":[{\"type\":\"scatter3d\",\"line\":{\"colorbar\":{\"outlinewidth\":0,\"ticks\":\"\"}},\"marker\":{\"colorbar\":{\"outlinewidth\":0,\"ticks\":\"\"}}}],\"scattermapbox\":[{\"type\":\"scattermapbox\",\"marker\":{\"colorbar\":{\"outlinewidth\":0,\"ticks\":\"\"}}}],\"scatterternary\":[{\"type\":\"scatterternary\",\"marker\":{\"colorbar\":{\"outlinewidth\":0,\"ticks\":\"\"}}}],\"scattercarpet\":[{\"type\":\"scattercarpet\",\"marker\":{\"colorbar\":{\"outlinewidth\":0,\"ticks\":\"\"}}}],\"carpet\":[{\"aaxis\":{\"endlinecolor\":\"#2a3f5f\",\"gridcolor\":\"white\",\"linecolor\":\"white\",\"minorgridcolor\":\"white\",\"startlinecolor\":\"#2a3f5f\"},\"baxis\":{\"endlinecolor\":\"#2a3f5f\",\"gridcolor\":\"white\",\"linecolor\":\"white\",\"minorgridcolor\":\"white\",\"startlinecolor\":\"#2a3f5f\"},\"type\":\"carpet\"}],\"table\":[{\"cells\":{\"fill\":{\"color\":\"#EBF0F8\"},\"line\":{\"color\":\"white\"}},\"header\":{\"fill\":{\"color\":\"#C8D4E3\"},\"line\":{\"color\":\"white\"}},\"type\":\"table\"}],\"barpolar\":[{\"marker\":{\"line\":{\"color\":\"#E5ECF6\",\"width\":0.5},\"pattern\":{\"fillmode\":\"overlay\",\"size\":10,\"solidity\":0.2}},\"type\":\"barpolar\"}],\"pie\":[{\"automargin\":true,\"type\":\"pie\"}]},\"layout\":{\"autotypenumbers\":\"strict\",\"colorway\":[\"#636efa\",\"#EF553B\",\"#00cc96\",\"#ab63fa\",\"#FFA15A\",\"#19d3f3\",\"#FF6692\",\"#B6E880\",\"#FF97FF\",\"#FECB52\"],\"font\":{\"color\":\"#2a3f5f\"},\"hovermode\":\"closest\",\"hoverlabel\":{\"align\":\"left\"},\"paper_bgcolor\":\"white\",\"plot_bgcolor\":\"#E5ECF6\",\"polar\":{\"bgcolor\":\"#E5ECF6\",\"angularaxis\":{\"gridcolor\":\"white\",\"linecolor\":\"white\",\"ticks\":\"\"},\"radialaxis\":{\"gridcolor\":\"white\",\"linecolor\":\"white\",\"ticks\":\"\"}},\"ternary\":{\"bgcolor\":\"#E5ECF6\",\"aaxis\":{\"gridcolor\":\"white\",\"linecolor\":\"white\",\"ticks\":\"\"},\"baxis\":{\"gridcolor\":\"white\",\"linecolor\":\"white\",\"ticks\":\"\"},\"caxis\":{\"gridcolor\":\"white\",\"linecolor\":\"white\",\"ticks\":\"\"}},\"coloraxis\":{\"colorbar\":{\"outlinewidth\":0,\"ticks\":\"\"}},\"colorscale\":{\"sequential\":[[0.0,\"#0d0887\"],[0.1111111111111111,\"#46039f\"],[0.2222222222222222,\"#7201a8\"],[0.3333333333333333,\"#9c179e\"],[0.4444444444444444,\"#bd3786\"],[0.5555555555555556,\"#d8576b\"],[0.6666666666666666,\"#ed7953\"],[0.7777777777777778,\"#fb9f3a\"],[0.8888888888888888,\"#fdca26\"],[1.0,\"#f0f921\"]],\"sequentialminus\":[[0.0,\"#0d0887\"],[0.1111111111111111,\"#46039f\"],[0.2222222222222222,\"#7201a8\"],[0.3333333333333333,\"#9c179e\"],[0.4444444444444444,\"#bd3786\"],[0.5555555555555556,\"#d8576b\"],[0.6666666666666666,\"#ed7953\"],[0.7777777777777778,\"#fb9f3a\"],[0.8888888888888888,\"#fdca26\"],[1.0,\"#f0f921\"]],\"diverging\":[[0,\"#8e0152\"],[0.1,\"#c51b7d\"],[0.2,\"#de77ae\"],[0.3,\"#f1b6da\"],[0.4,\"#fde0ef\"],[0.5,\"#f7f7f7\"],[0.6,\"#e6f5d0\"],[0.7,\"#b8e186\"],[0.8,\"#7fbc41\"],[0.9,\"#4d9221\"],[1,\"#276419\"]]},\"xaxis\":{\"gridcolor\":\"white\",\"linecolor\":\"white\",\"ticks\":\"\",\"title\":{\"standoff\":15},\"zerolinecolor\":\"white\",\"automargin\":true,\"zerolinewidth\":2},\"yaxis\":{\"gridcolor\":\"white\",\"linecolor\":\"white\",\"ticks\":\"\",\"title\":{\"standoff\":15},\"zerolinecolor\":\"white\",\"automargin\":true,\"zerolinewidth\":2},\"scene\":{\"xaxis\":{\"backgroundcolor\":\"#E5ECF6\",\"gridcolor\":\"white\",\"linecolor\":\"white\",\"showbackground\":true,\"ticks\":\"\",\"zerolinecolor\":\"white\",\"gridwidth\":2},\"yaxis\":{\"backgroundcolor\":\"#E5ECF6\",\"gridcolor\":\"white\",\"linecolor\":\"white\",\"showbackground\":true,\"ticks\":\"\",\"zerolinecolor\":\"white\",\"gridwidth\":2},\"zaxis\":{\"backgroundcolor\":\"#E5ECF6\",\"gridcolor\":\"white\",\"linecolor\":\"white\",\"showbackground\":true,\"ticks\":\"\",\"zerolinecolor\":\"white\",\"gridwidth\":2}},\"shapedefaults\":{\"line\":{\"color\":\"#2a3f5f\"}},\"annotationdefaults\":{\"arrowcolor\":\"#2a3f5f\",\"arrowhead\":0,\"arrowwidth\":1},\"geo\":{\"bgcolor\":\"white\",\"landcolor\":\"#E5ECF6\",\"subunitcolor\":\"white\",\"showland\":true,\"showlakes\":true,\"lakecolor\":\"white\"},\"title\":{\"x\":0.05},\"mapbox\":{\"style\":\"light\"}}},\"title\":{\"text\":\"Rela\\u00e7\\u00e3o entre atraso e ano\"},\"xaxis\":{\"title\":{\"text\":\"Situa\\u00e7\\u00e3o do Pedido\"}},\"yaxis\":{\"title\":{\"text\":\"N\\u00famero de Pedidos\"}}},                        {\"responsive\": true}                    ).then(function(){\n",
       "                            \n",
       "var gd = document.getElementById('fcb831d1-2543-4d4b-84c2-8ad4366112e6');\n",
       "var x = new MutationObserver(function (mutations, observer) {{\n",
       "        var display = window.getComputedStyle(gd).display;\n",
       "        if (!display || display === 'none') {{\n",
       "            console.log([gd, 'removed!']);\n",
       "            Plotly.purge(gd);\n",
       "            observer.disconnect();\n",
       "        }}\n",
       "}});\n",
       "\n",
       "// Listen for the removal of the full notebook cells\n",
       "var notebookContainer = gd.closest('#notebook-container');\n",
       "if (notebookContainer) {{\n",
       "    x.observe(notebookContainer, {childList: true});\n",
       "}}\n",
       "\n",
       "// Listen for the clearing of the current output cell\n",
       "var outputEl = gd.closest('.output');\n",
       "if (outputEl) {{\n",
       "    x.observe(outputEl, {childList: true});\n",
       "}}\n",
       "\n",
       "                        })                };                });            </script>        </div>"
      ]
     },
     "metadata": {},
     "output_type": "display_data"
    }
   ],
   "source": [
    "fig = go.Figure()\n",
    "\n",
    "fig.add_trace(go.Bar(\n",
    "    x=df2016_final.index,\n",
    "    y=df2016_final.values,\n",
    "    name=\"Ano de 2016\",\n",
    "    marker_color=\"magenta\"\n",
    "))\n",
    "\n",
    "\n",
    "fig.add_trace(go.Bar(\n",
    "    x=df2017_final.index,\n",
    "    y=df2017_final.values,\n",
    "    name=\"Ano de 2017\",\n",
    "    marker_color=\"purple\"\n",
    "))\n",
    "\n",
    "fig.add_trace(go.Bar(\n",
    "    x=df2018_final.index,\n",
    "    y=df2018_final.values,\n",
    "    name=\"Ano de 2018\",\n",
    "    marker_color=\"orchid\"\n",
    "))\n",
    "\n",
    "fig.update_layout(title=\"Relação entre atraso e ano\",\n",
    "    xaxis_title=\"Situação do Pedido\",\n",
    "    yaxis_title = \"Número de Pedidos\"\n",
    ")\n",
    "\n",
    "\n",
    "\n",
    "\n",
    "\n",
    "fig.show()"
   ]
  },
  {
   "cell_type": "code",
   "execution_count": null,
   "id": "d627dc59",
   "metadata": {},
   "outputs": [],
   "source": []
  }
 ],
 "metadata": {
  "kernelspec": {
   "display_name": "Python 3 (ipykernel)",
   "language": "python",
   "name": "python3"
  },
  "language_info": {
   "codemirror_mode": {
    "name": "ipython",
    "version": 3
   },
   "file_extension": ".py",
   "mimetype": "text/x-python",
   "name": "python",
   "nbconvert_exporter": "python",
   "pygments_lexer": "ipython3",
   "version": "3.11.5"
  }
 },
 "nbformat": 4,
 "nbformat_minor": 5
}
